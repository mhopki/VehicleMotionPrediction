{
 "cells": [
  {
   "cell_type": "code",
   "execution_count": 1,
   "metadata": {
    "tags": []
   },
   "outputs": [
    {
     "data": {
      "text/plain": [
       "'cuda'"
      ]
     },
     "execution_count": 1,
     "metadata": {},
     "output_type": "execute_result"
    }
   ],
   "source": [
    "import torch\n",
    "import pandas as pd\n",
    "import numpy as np\n",
    "import torch.nn as nn\n",
    "import torch.nn.functional as F\n",
    "from torch.utils.data import Dataset, DataLoader\n",
    "import matplotlib.pylab as plt\n",
    "from tqdm.autonotebook import tqdm\n",
    "DEVICE = \"cuda\" if torch.cuda.is_available() else \"cpu\"\n",
    "DEVICE"
   ]
  },
  {
   "cell_type": "code",
   "execution_count": 2,
   "metadata": {
    "collapsed": false,
    "jupyter": {
     "outputs_hidden": false
    },
    "pycharm": {
     "name": "#%%\n"
    }
   },
   "outputs": [],
   "source": [
    "train_frame = pd.read_pickle(\"../../data/train_data.pkl\")\n",
    "test_frame = pd.read_pickle(\"../../data/test_data.pkl\")\n",
    "train_frame = train_frame.iloc[-1:]; test_frame = train_frame;"
   ]
  },
  {
   "cell_type": "code",
   "execution_count": 3,
   "metadata": {
    "collapsed": false,
    "jupyter": {
     "outputs_hidden": false
    },
    "pycharm": {
     "name": "#%%\n"
    }
   },
   "outputs": [],
   "source": [
    "class TraceDataset(Dataset):\n",
    "    def __init__(self, dataframe):\n",
    "        self.dataframe = dataframe\n",
    "\n",
    "    def __len__(self):\n",
    "        return len(self.dataframe)\n",
    "\n",
    "    def __getitem__(self, idx):\n",
    "        input = torch.tensor(train_frame.iloc[idx]['input'], dtype=torch.float32)\n",
    "        target = torch.tensor(train_frame.iloc[idx]['target'], dtype=torch.float32)\n",
    "        return input, target\n",
    "\n",
    "train_dataset = TraceDataset(train_frame)\n",
    "test_dataset = TraceDataset(test_frame)\n",
    "train_dataloader = DataLoader(train_dataset, batch_size=1, shuffle=True)\n",
    "test_dataloader = DataLoader(test_dataset, batch_size=1, shuffle=True)"
   ]
  },
  {
   "cell_type": "code",
   "execution_count": 22,
   "metadata": {
    "collapsed": false,
    "jupyter": {
     "outputs_hidden": false
    },
    "pycharm": {
     "name": "#%%\n"
    }
   },
   "outputs": [],
   "source": [
    "def bicycle_model_eval(input, last_pose):\n",
    "    # This version takes in an input of dim 5\n",
    "    states = torch.zeros((81, 4))\n",
    "    #start_v = input[0]\n",
    "    L = 0.3302\n",
    "    TS = 0.1\n",
    "    X, Y, THETA, V = 0, 1, 2, 3\n",
    "    #states[0, 0:3] = input[0:3]\n",
    "    #states[0, V] = input[3]\n",
    "    #states.append(torch.tensor([last_pose[0],last_pose[1],last_pose[2],input[0]], requires_grad=True))\n",
    "    states[0,X] = last_pose[0]\n",
    "    states[0,Y] = last_pose[1]\n",
    "    states[0,THETA] = last_pose[2]\n",
    "    states[0,V] = input[0]\n",
    "    for i in range(1,81):\n",
    "        # Advance bicycle model\n",
    "        states[i,X] = states[i-1,X] + (TS * states[i-1,V] * torch.cos(states[i-1,THETA]))\n",
    "        states[i,Y] = states[i-1,Y] + (TS * states[i-1,V] * torch.sin(states[i-1,THETA]))\n",
    "        states[i,THETA] = states[i-1,THETA] + (TS * (states[i-1,V] * torch.tan(input[1])) / L)\n",
    "        states[i,V] = states[i-1,V] + TS*input[2]\n",
    "        #states.append(\n",
    "        #    torch.tensor(\n",
    "        #        [states[i-1][X] + (TS * states[i-1][V] * torch.cos(states[i-1][THETA])),\n",
    "        #         states[i-1][Y] + (TS * states[i-1][V] * torch.sin(states[i-1][THETA])),\n",
    "        #         states[i-1][THETA] + (TS * (states[i-1][V] * torch.tan(input[1])) / L),\n",
    "        #         states[i-1][V] + TS*input[2]], requires_grad=True))\n",
    "        #states[i, dX] = states[i-1,V] * torch.cos(trace[i-1,THETA])\n",
    "        #states[i, dY] = states[i-1,V] * torch.sin(trace[i-1,THETA])\n",
    "        #states[i, dTHETA] = (states[i-1,V] * torch.tan(input[4])) / L\n",
    "        #states[i, dV] = input[5]\n",
    "        #states[i, V] = states[i-1, V] + TS*states[i, dV]\n",
    "    trace = states[1:,0:3]\n",
    "    return trace\n",
    "\n",
    "\n",
    "def custom_loss_func(prediction, target, output):\n",
    "    loss = F.mse_loss(prediction, target)\n",
    "    #loss += 10*output[0]**2 if output[0]<0 else 0\n",
    "    #loss += 2*torch.linalg.norm(output)**2\n",
    "    return loss\n",
    "\n",
    "class LSTMPredictor(nn.Module):\n",
    "    def __init__(self, input_dim=3, hidden_dim=10, target_size=3):\n",
    "        super(LSTMPredictor, self).__init__()\n",
    "        self.hidden_dim = hidden_dim\n",
    "\n",
    "        # The LSTM takes word embeddings as inputs, and outputs hidden states\n",
    "        # with dimensionality hidden_dim.\n",
    "        self.lstm = nn.LSTM(input_dim, hidden_dim, num_layers=2, batch_first=True)\n",
    "\n",
    "        # The linear layer that maps from hidden state space to tag space\n",
    "        self.hidden2output = nn.Sequential(\n",
    "            nn.Linear(hidden_dim, hidden_dim),\n",
    "            nn.Linear(hidden_dim, target_size)\n",
    "        )\n",
    "\n",
    "    def forward(self, inputs):\n",
    "        lstm_out, _ = self.lstm(inputs)\n",
    "        output = self.hidden2output(lstm_out)\n",
    "        output = torch.column_stack([F.softplus(output[:,0]), torch.tanh(output[:,1])*np.pi, output[:,2]])\n",
    "        return output\n",
    "    \n",
    "    def predict(self, inputs, horizon=80):\n",
    "        pass"
   ]
  },
  {
   "cell_type": "code",
   "execution_count": 23,
   "metadata": {
    "collapsed": false,
    "jupyter": {
     "outputs_hidden": false
    },
    "pycharm": {
     "name": "#%%\n"
    }
   },
   "outputs": [
    {
     "data": {
      "text/plain": [
       "<All keys matched successfully>"
      ]
     },
     "execution_count": 23,
     "metadata": {},
     "output_type": "execute_result"
    }
   ],
   "source": [
    "net = LSTMPredictor()\n",
    "net.load_state_dict(torch.load(\"best_simple_bicycle.pt\"))"
   ]
  },
  {
   "cell_type": "code",
   "execution_count": 24,
   "metadata": {
    "collapsed": false,
    "jupyter": {
     "outputs_hidden": false
    },
    "pycharm": {
     "name": "#%%\n"
    }
   },
   "outputs": [
    {
     "data": {
      "text/plain": [
       "tensor([[-60.6901,  36.0461,   2.1413],\n",
       "        [-60.8857,  36.3534,   2.1290],\n",
       "        [-61.0805,  36.6594,   2.1432],\n",
       "        [-61.2783,  36.9625,   2.1593],\n",
       "        [-61.4817,  37.2603,   2.1914],\n",
       "        [-61.6916,  37.5501,   2.2166],\n",
       "        [-61.9060,  37.8312,   2.2389],\n",
       "        [-62.1253,  38.1048,   2.2610],\n",
       "        [-62.3492,  38.3738,   2.2763],\n",
       "        [-62.5779,  38.6396,   2.2916]], dtype=torch.float64)"
      ]
     },
     "execution_count": 24,
     "metadata": {},
     "output_type": "execute_result"
    }
   ],
   "source": [
    "torch.tensor(train_frame.iloc[0]['input'])"
   ]
  },
  {
   "cell_type": "code",
   "execution_count": 25,
   "metadata": {
    "collapsed": false,
    "jupyter": {
     "outputs_hidden": false
    },
    "pycharm": {
     "name": "#%%\n"
    }
   },
   "outputs": [
    {
     "data": {
      "text/plain": [
       "torch.Size([10, 3])"
      ]
     },
     "execution_count": 25,
     "metadata": {},
     "output_type": "execute_result"
    }
   ],
   "source": [
    "inp = torch.tensor(train_frame.iloc[0]['input'], dtype=torch.float32)\n",
    "outp = net(inp)\n",
    "target = torch.tensor(train_frame.iloc[0]['target'], dtype=torch.float32)\n",
    "outp.shape"
   ]
  },
  {
   "cell_type": "code",
   "execution_count": 26,
   "metadata": {
    "collapsed": false,
    "jupyter": {
     "outputs_hidden": false
    },
    "pycharm": {
     "name": "#%%\n"
    }
   },
   "outputs": [],
   "source": [
    "outp_trace = bicycle_model_eval(outp[-1], inp[-1])\n",
    "from viz_net import make_dot"
   ]
  },
  {
   "cell_type": "code",
   "execution_count": 27,
   "metadata": {},
   "outputs": [],
   "source": [
    "loss = custom_loss_func(outp_trace, target.squeeze(), outp[-1])\n",
    "#g = make_dot(loss)\n",
    "#g.view()"
   ]
  },
  {
   "cell_type": "code",
   "execution_count": 28,
   "metadata": {},
   "outputs": [],
   "source": [
    "#g = make_dot(outp[-1])\n",
    "#g.view()"
   ]
  },
  {
   "cell_type": "code",
   "execution_count": 29,
   "metadata": {
    "collapsed": false,
    "jupyter": {
     "outputs_hidden": false
    },
    "pycharm": {
     "name": "#%%\n"
    }
   },
   "outputs": [
    {
     "data": {
      "text/plain": [
       "<matplotlib.legend.Legend at 0x7f7f7cd233a0>"
      ]
     },
     "execution_count": 29,
     "metadata": {},
     "output_type": "execute_result"
    },
    {
     "data": {
      "image/png": "[encoded data removed]",
      "text/plain": [
       "<Figure size 432x288 with 1 Axes>"
      ]
     },
     "metadata": {
      "needs_background": "light"
     },
     "output_type": "display_data"
    }
   ],
   "source": [
    "plt.plot(outp_trace[:,0].detach().numpy(), outp_trace[:,1].detach().numpy(), marker='o', label='Predicted')\n",
    "plt.plot(target[:,0].detach().numpy(), target[:,1].detach().numpy(), marker='o', label='Target')\n",
    "plt.legend()"
   ]
  },
  {
   "cell_type": "code",
   "execution_count": 30,
   "metadata": {
    "collapsed": false,
    "jupyter": {
     "outputs_hidden": false
    },
    "pycharm": {
     "name": "#%%\n"
    }
   },
   "outputs": [
    {
     "data": {
      "text/plain": [
       "<matplotlib.legend.Legend at 0x7f7f7cc9b490>"
      ]
     },
     "execution_count": 30,
     "metadata": {},
     "output_type": "execute_result"
    },
    {
     "data": {
      "image/png": "[encoded data removed]",
      "text/plain": [
       "<Figure size 432x288 with 1 Axes>"
      ]
     },
     "metadata": {
      "needs_background": "light"
     },
     "output_type": "display_data"
    }
   ],
   "source": [
    "plt.plot(outp_trace[:,0].detach().numpy(), outp_trace[:,1].detach().numpy(), marker='o', label='Predicted')\n",
    "plt.plot(target[:10,0].detach().numpy(), target[:10,1].detach().numpy(), marker='o', label='Target')\n",
    "plt.legend()"
   ]
  },
  {
   "cell_type": "code",
   "execution_count": 31,
   "metadata": {
    "collapsed": false,
    "jupyter": {
     "outputs_hidden": false
    },
    "pycharm": {
     "name": "#%%\n"
    }
   },
   "outputs": [
    {
     "data": {
      "text/plain": [
       "tensor([[0.2075, 0.0522, 0.7089],\n",
       "        [0.3489, 0.6625, 0.4123],\n",
       "        [0.9695, 0.4147, 0.6227],\n",
       "        [0.9634, 0.7454, 0.5017],\n",
       "        [0.3104, 0.1111, 0.6892],\n",
       "        [0.4418, 0.0135, 0.6211],\n",
       "        [0.0606, 0.9322, 0.3078],\n",
       "        [0.3481, 0.9747, 0.0575],\n",
       "        [0.3842, 0.7142, 0.5870],\n",
       "        [0.6687, 0.6282, 0.2586]])"
      ]
     },
     "execution_count": 31,
     "metadata": {},
     "output_type": "execute_result"
    }
   ],
   "source": [
    "torch.vstack([torch.rand((3,)) for _ in range(10)])"
   ]
  },
  {
   "cell_type": "code",
   "execution_count": 32,
   "metadata": {
    "collapsed": false,
    "jupyter": {
     "outputs_hidden": false
    },
    "pycharm": {
     "name": "#%%\n"
    }
   },
   "outputs": [
    {
     "data": {
      "text/plain": [
       "tensor(71.2737, grad_fn=<MseLossBackward0>)"
      ]
     },
     "execution_count": 32,
     "metadata": {},
     "output_type": "execute_result"
    }
   ],
   "source": [
    "loss = nn.MSELoss()\n",
    "loss(outp_trace,torch.tensor(train_frame.iloc[0]['target'], dtype=torch.float32))"
   ]
  },
  {
   "cell_type": "code",
   "execution_count": 33,
   "metadata": {
    "pycharm": {
     "name": "#%%\n"
    },
    "tags": []
   },
   "outputs": [
    {
     "data": {
      "application/vnd.jupyter.widget-view+json": {
       "model_id": "63afa47d852e4e578e9980bb00783b1e",
       "version_major": 2,
       "version_minor": 0
      },
      "text/plain": [
       "  0%|          | 0/1 [00:00<?, ?it/s]"
      ]
     },
     "metadata": {},
     "output_type": "display_data"
    },
    {
     "name": "stderr",
     "output_type": "stream",
     "text": [
      "/home/nandan/.local/share/virtualenvs/VehicleMotionPrediction-ZxAbpHqp/lib/python3.9/site-packages/torch/autograd/__init__.py:173: UserWarning: Error detected in MulBackward0. Traceback of forward call that caused the error:\n",
      "  File \"/usr/lib/python3.9/runpy.py\", line 197, in _run_module_as_main\n",
      "    return _run_code(code, main_globals, None,\n",
      "  File \"/usr/lib/python3.9/runpy.py\", line 87, in _run_code\n",
      "    exec(code, run_globals)\n",
      "  File \"/home/nandan/.local/share/virtualenvs/VehicleMotionPrediction-ZxAbpHqp/lib/python3.9/site-packages/ipykernel_launcher.py\", line 17, in <module>\n",
      "    app.launch_new_instance()\n",
      "  File \"/home/nandan/.local/share/virtualenvs/VehicleMotionPrediction-ZxAbpHqp/lib/python3.9/site-packages/traitlets/config/application.py\", line 846, in launch_instance\n",
      "    app.start()\n",
      "  File \"/home/nandan/.local/share/virtualenvs/VehicleMotionPrediction-ZxAbpHqp/lib/python3.9/site-packages/ipykernel/kernelapp.py\", line 712, in start\n",
      "    self.io_loop.start()\n",
      "  File \"/home/nandan/.local/share/virtualenvs/VehicleMotionPrediction-ZxAbpHqp/lib/python3.9/site-packages/tornado/platform/asyncio.py\", line 199, in start\n",
      "    self.asyncio_loop.run_forever()\n",
      "  File \"/usr/lib/python3.9/asyncio/base_events.py\", line 596, in run_forever\n",
      "    self._run_once()\n",
      "  File \"/usr/lib/python3.9/asyncio/base_events.py\", line 1890, in _run_once\n",
      "    handle._run()\n",
      "  File \"/usr/lib/python3.9/asyncio/events.py\", line 80, in _run\n",
      "    self._context.run(self._callback, *self._args)\n",
      "  File \"/home/nandan/.local/share/virtualenvs/VehicleMotionPrediction-ZxAbpHqp/lib/python3.9/site-packages/ipykernel/kernelbase.py\", line 504, in dispatch_queue\n",
      "    await self.process_one()\n",
      "  File \"/home/nandan/.local/share/virtualenvs/VehicleMotionPrediction-ZxAbpHqp/lib/python3.9/site-packages/ipykernel/kernelbase.py\", line 493, in process_one\n",
      "    await dispatch(*args)\n",
      "  File \"/home/nandan/.local/share/virtualenvs/VehicleMotionPrediction-ZxAbpHqp/lib/python3.9/site-packages/ipykernel/kernelbase.py\", line 400, in dispatch_shell\n",
      "    await result\n",
      "  File \"/home/nandan/.local/share/virtualenvs/VehicleMotionPrediction-ZxAbpHqp/lib/python3.9/site-packages/ipykernel/kernelbase.py\", line 724, in execute_request\n",
      "    reply_content = await reply_content\n",
      "  File \"/home/nandan/.local/share/virtualenvs/VehicleMotionPrediction-ZxAbpHqp/lib/python3.9/site-packages/ipykernel/ipkernel.py\", line 383, in do_execute\n",
      "    res = shell.run_cell(\n",
      "  File \"/home/nandan/.local/share/virtualenvs/VehicleMotionPrediction-ZxAbpHqp/lib/python3.9/site-packages/ipykernel/zmqshell.py\", line 528, in run_cell\n",
      "    return super().run_cell(*args, **kwargs)\n",
      "  File \"/home/nandan/.local/share/virtualenvs/VehicleMotionPrediction-ZxAbpHqp/lib/python3.9/site-packages/IPython/core/interactiveshell.py\", line 2880, in run_cell\n",
      "    result = self._run_cell(\n",
      "  File \"/home/nandan/.local/share/virtualenvs/VehicleMotionPrediction-ZxAbpHqp/lib/python3.9/site-packages/IPython/core/interactiveshell.py\", line 2935, in _run_cell\n",
      "    return runner(coro)\n",
      "  File \"/home/nandan/.local/share/virtualenvs/VehicleMotionPrediction-ZxAbpHqp/lib/python3.9/site-packages/IPython/core/async_helpers.py\", line 129, in _pseudo_sync_runner\n",
      "    coro.send(None)\n",
      "  File \"/home/nandan/.local/share/virtualenvs/VehicleMotionPrediction-ZxAbpHqp/lib/python3.9/site-packages/IPython/core/interactiveshell.py\", line 3134, in run_cell_async\n",
      "    has_raised = await self.run_ast_nodes(code_ast.body, cell_name,\n",
      "  File \"/home/nandan/.local/share/virtualenvs/VehicleMotionPrediction-ZxAbpHqp/lib/python3.9/site-packages/IPython/core/interactiveshell.py\", line 3337, in run_ast_nodes\n",
      "    if await self.run_code(code, result, async_=asy):\n",
      "  File \"/home/nandan/.local/share/virtualenvs/VehicleMotionPrediction-ZxAbpHqp/lib/python3.9/site-packages/IPython/core/interactiveshell.py\", line 3397, in run_code\n",
      "    exec(code_obj, self.user_global_ns, self.user_ns)\n",
      "  File \"/tmp/ipykernel_201237/1232791239.py\", line 21, in <cell line: 10>\n",
      "    outp_trace = bicycle_model_eval(outp[-1], input_data[-1].detach().clone().to(\"cpu\")).to(DEVICE)\n",
      "  File \"/tmp/ipykernel_201237/625723749.py\", line 19, in bicycle_model_eval\n",
      "    states[i,THETA] = states[i-1,THETA] + (TS * (states[i-1,V] * torch.tan(input[1])) / L)\n",
      " (Triggered internally at  ../torch/csrc/autograd/python_anomaly_mode.cpp:104.)\n",
      "  Variable._execution_engine.run_backward(  # Calls into the C++ engine to run the backward pass\n"
     ]
    },
    {
     "ename": "RuntimeError",
     "evalue": "one of the variables needed for gradient computation has been modified by an inplace operation: [torch.FloatTensor []], which is output 0 of AsStridedBackward0, is at version 324; expected version 322 instead. Hint: the backtrace further above shows the operation that failed to compute its gradient. The variable in question was changed in there or anywhere later. Good luck!",
     "output_type": "error",
     "traceback": [
      "\u001b[0;31m---------------------------------------------------------------------------\u001b[0m",
      "\u001b[0;31mRuntimeError\u001b[0m                              Traceback (most recent call last)",
      "Input \u001b[0;32mIn [33]\u001b[0m, in \u001b[0;36m<cell line: 10>\u001b[0;34m()\u001b[0m\n\u001b[1;32m     21\u001b[0m outp_trace \u001b[38;5;241m=\u001b[39m bicycle_model_eval(outp[\u001b[38;5;241m-\u001b[39m\u001b[38;5;241m1\u001b[39m], input_data[\u001b[38;5;241m-\u001b[39m\u001b[38;5;241m1\u001b[39m]\u001b[38;5;241m.\u001b[39mdetach()\u001b[38;5;241m.\u001b[39mclone()\u001b[38;5;241m.\u001b[39mto(\u001b[38;5;124m\"\u001b[39m\u001b[38;5;124mcpu\u001b[39m\u001b[38;5;124m\"\u001b[39m))\u001b[38;5;241m.\u001b[39mto(DEVICE)\n\u001b[1;32m     22\u001b[0m loss \u001b[38;5;241m=\u001b[39m custom_loss_func(outp_trace, target_data\u001b[38;5;241m.\u001b[39msqueeze()\u001b[38;5;241m.\u001b[39mto(DEVICE), outp[\u001b[38;5;241m-\u001b[39m\u001b[38;5;241m1\u001b[39m])\n\u001b[0;32m---> 23\u001b[0m \u001b[43mloss\u001b[49m\u001b[38;5;241;43m.\u001b[39;49m\u001b[43mbackward\u001b[49m\u001b[43m(\u001b[49m\u001b[43m)\u001b[49m\n\u001b[1;32m     24\u001b[0m optimizer\u001b[38;5;241m.\u001b[39mstep()\n\u001b[1;32m     25\u001b[0m cum_train_loss \u001b[38;5;241m+\u001b[39m\u001b[38;5;241m=\u001b[39m loss\u001b[38;5;241m.\u001b[39mitem()\n",
      "File \u001b[0;32m~/.local/share/virtualenvs/VehicleMotionPrediction-ZxAbpHqp/lib/python3.9/site-packages/torch/_tensor.py:363\u001b[0m, in \u001b[0;36mTensor.backward\u001b[0;34m(self, gradient, retain_graph, create_graph, inputs)\u001b[0m\n\u001b[1;32m    354\u001b[0m \u001b[38;5;28;01mif\u001b[39;00m has_torch_function_unary(\u001b[38;5;28mself\u001b[39m):\n\u001b[1;32m    355\u001b[0m     \u001b[38;5;28;01mreturn\u001b[39;00m handle_torch_function(\n\u001b[1;32m    356\u001b[0m         Tensor\u001b[38;5;241m.\u001b[39mbackward,\n\u001b[1;32m    357\u001b[0m         (\u001b[38;5;28mself\u001b[39m,),\n\u001b[0;32m   (...)\u001b[0m\n\u001b[1;32m    361\u001b[0m         create_graph\u001b[38;5;241m=\u001b[39mcreate_graph,\n\u001b[1;32m    362\u001b[0m         inputs\u001b[38;5;241m=\u001b[39minputs)\n\u001b[0;32m--> 363\u001b[0m \u001b[43mtorch\u001b[49m\u001b[38;5;241;43m.\u001b[39;49m\u001b[43mautograd\u001b[49m\u001b[38;5;241;43m.\u001b[39;49m\u001b[43mbackward\u001b[49m\u001b[43m(\u001b[49m\u001b[38;5;28;43mself\u001b[39;49m\u001b[43m,\u001b[49m\u001b[43m \u001b[49m\u001b[43mgradient\u001b[49m\u001b[43m,\u001b[49m\u001b[43m \u001b[49m\u001b[43mretain_graph\u001b[49m\u001b[43m,\u001b[49m\u001b[43m \u001b[49m\u001b[43mcreate_graph\u001b[49m\u001b[43m,\u001b[49m\u001b[43m \u001b[49m\u001b[43minputs\u001b[49m\u001b[38;5;241;43m=\u001b[39;49m\u001b[43minputs\u001b[49m\u001b[43m)\u001b[49m\n",
      "File \u001b[0;32m~/.local/share/virtualenvs/VehicleMotionPrediction-ZxAbpHqp/lib/python3.9/site-packages/torch/autograd/__init__.py:173\u001b[0m, in \u001b[0;36mbackward\u001b[0;34m(tensors, grad_tensors, retain_graph, create_graph, grad_variables, inputs)\u001b[0m\n\u001b[1;32m    168\u001b[0m     retain_graph \u001b[38;5;241m=\u001b[39m create_graph\n\u001b[1;32m    170\u001b[0m \u001b[38;5;66;03m# The reason we repeat same the comment below is that\u001b[39;00m\n\u001b[1;32m    171\u001b[0m \u001b[38;5;66;03m# some Python versions print out the first line of a multi-line function\u001b[39;00m\n\u001b[1;32m    172\u001b[0m \u001b[38;5;66;03m# calls in the traceback and some print out the last line\u001b[39;00m\n\u001b[0;32m--> 173\u001b[0m \u001b[43mVariable\u001b[49m\u001b[38;5;241;43m.\u001b[39;49m\u001b[43m_execution_engine\u001b[49m\u001b[38;5;241;43m.\u001b[39;49m\u001b[43mrun_backward\u001b[49m\u001b[43m(\u001b[49m\u001b[43m  \u001b[49m\u001b[38;5;66;43;03m# Calls into the C++ engine to run the backward pass\u001b[39;49;00m\n\u001b[1;32m    174\u001b[0m \u001b[43m    \u001b[49m\u001b[43mtensors\u001b[49m\u001b[43m,\u001b[49m\u001b[43m \u001b[49m\u001b[43mgrad_tensors_\u001b[49m\u001b[43m,\u001b[49m\u001b[43m \u001b[49m\u001b[43mretain_graph\u001b[49m\u001b[43m,\u001b[49m\u001b[43m \u001b[49m\u001b[43mcreate_graph\u001b[49m\u001b[43m,\u001b[49m\u001b[43m \u001b[49m\u001b[43minputs\u001b[49m\u001b[43m,\u001b[49m\n\u001b[1;32m    175\u001b[0m \u001b[43m    \u001b[49m\u001b[43mallow_unreachable\u001b[49m\u001b[38;5;241;43m=\u001b[39;49m\u001b[38;5;28;43;01mTrue\u001b[39;49;00m\u001b[43m,\u001b[49m\u001b[43m \u001b[49m\u001b[43maccumulate_grad\u001b[49m\u001b[38;5;241;43m=\u001b[39;49m\u001b[38;5;28;43;01mTrue\u001b[39;49;00m\u001b[43m)\u001b[49m\n",
      "\u001b[0;31mRuntimeError\u001b[0m: one of the variables needed for gradient computation has been modified by an inplace operation: [torch.FloatTensor []], which is output 0 of AsStridedBackward0, is at version 324; expected version 322 instead. Hint: the backtrace further above shows the operation that failed to compute its gradient. The variable in question was changed in there or anywhere later. Good luck!"
     ]
    }
   ],
   "source": [
    "# Training Loop\n",
    "torch.autograd.set_detect_anomaly(True)\n",
    "net = LSTMPredictor()\n",
    "net.to(DEVICE)\n",
    "loss_func = nn.MSELoss()\n",
    "optimizer = torch.optim.Adam(net.parameters(), lr=1e-1)\n",
    "train_losses = list()\n",
    "test_losses = list()\n",
    "\n",
    "for epoch in range(100):\n",
    "    cum_train_loss = 0.0\n",
    "    net.train()\n",
    "    for input_data, target_data in tqdm(train_dataloader):\n",
    "        net.zero_grad()\n",
    "        input_data = input_data.squeeze().to(DEVICE)\n",
    "        outp = net(input_data)\n",
    "        outp = outp.squeeze()\n",
    "        outp = outp.to(\"cpu\")\n",
    "        target_data = target_data.squeeze()\n",
    "        #print(outp.shape)\n",
    "        outp_trace = bicycle_model_eval(outp[-1], input_data[-1].detach().clone().to(\"cpu\")).to(DEVICE)\n",
    "        loss = custom_loss_func(outp_trace, target_data.squeeze().to(DEVICE), outp[-1])\n",
    "        loss.backward()\n",
    "        optimizer.step()\n",
    "        cum_train_loss += loss.item()\n",
    "    plt.title(f\"Epoch {epoch} training plot: Params: {outp[-1]}\")\n",
    "    plt.plot(outp_trace[:,0].detach().cpu().numpy(), outp_trace[:,1].detach().cpu().numpy(), marker='o', label=\"Predicted\")\n",
    "    plt.plot(target_data[:,0].detach().cpu().numpy(), target_data[:,1].detach().cpu().numpy(), marker='o', label=\"Truth\")\n",
    "    plt.legend()\n",
    "    plt.show()\n",
    "    cum_train_loss /= len(train_dataset)\n",
    "    train_losses.append(cum_train_loss)\n",
    "    print(cum_train_loss)\n",
    "    cum_test_loss = 0.0\n",
    "    net.eval()\n",
    "    with torch.no_grad():\n",
    "        for input_data, target_data in tqdm(test_dataloader):\n",
    "            input_data = input_data.squeeze().to(DEVICE)\n",
    "            outp = net(input_data)\n",
    "            outp = outp.squeeze()\n",
    "            outp = outp.to(\"cpu\")\n",
    "            target_data = target_data.squeeze()\n",
    "            outp_trace = bicycle_model_eval(outp[-1], input_data[-1].detach().clone().to(\"cpu\")).to(DEVICE)\n",
    "            loss = custom_loss_func(outp_trace, target_data.squeeze().to(DEVICE), outp[-1])\n",
    "            cum_test_loss += loss.item()\n",
    "        plt.title(f\"Epoch {epoch} testing plot: Params: {outp[-1]}\")\n",
    "        plt.plot(outp_trace[:,0].detach().cpu().numpy(), outp_trace[:,1].detach().cpu().numpy(), marker='o', label=\"Predicted\")\n",
    "        plt.plot(target_data[:,0].detach().cpu().numpy(), target_data[:,1].detach().cpu().numpy(), marker='o', label=\"Truth\")\n",
    "        plt.legend()\n",
    "        plt.show()\n",
    "    cum_test_loss /= len(test_dataset)\n",
    "    test_losses.append(cum_test_loss)\n",
    "    if cum_test_loss <= min(test_losses):\n",
    "        torch.save(net.state_dict(), \"best_simple_bicycle.pt\")\n",
    "    print(cum_test_loss)\n",
    "    print(f\"Epoch {epoch} | Train Loss: {cum_train_loss} | Test Loss: {cum_test_loss}\")"
   ]
  },
  {
   "cell_type": "code",
   "execution_count": null,
   "metadata": {
    "collapsed": false,
    "jupyter": {
     "outputs_hidden": false
    },
    "pycharm": {
     "name": "#%%\n"
    }
   },
   "outputs": [],
   "source": [
    "plt.title(f\"Learning Curves\")\n",
    "plt.plot(train_losses, marker='o', label=\"Training Loss\")\n",
    "plt.plot(test_losses, marker='o', label=\"Testing Loss\")\n",
    "plt.legend()\n",
    "plt.show()"
   ]
  },
  {
   "cell_type": "code",
   "execution_count": null,
   "metadata": {},
   "outputs": [],
   "source": [
    "test_losses"
   ]
  },
  {
   "cell_type": "code",
   "execution_count": null,
   "metadata": {},
   "outputs": [],
   "source": []
  }
 ],
 "metadata": {
  "kernelspec": {
   "display_name": "Python 3 (ipykernel)",
   "language": "python",
   "name": "python3"
  },
  "language_info": {
   "codemirror_mode": {
    "name": "ipython",
    "version": 3
   },
   "file_extension": ".py",
   "mimetype": "text/x-python",
   "name": "python",
   "nbconvert_exporter": "python",
   "pygments_lexer": "ipython3",
   "version": "3.9.5"
  }
 },
 "nbformat": 4,
 "nbformat_minor": 4
}
