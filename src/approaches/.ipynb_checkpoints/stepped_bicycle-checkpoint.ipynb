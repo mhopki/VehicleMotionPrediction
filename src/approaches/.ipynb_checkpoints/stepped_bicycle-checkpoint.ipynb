{
 "cells": [
  {
   "cell_type": "code",
   "execution_count": 1,
   "metadata": {
    "tags": []
   },
   "outputs": [
    {
     "data": {
      "text/plain": [
       "'cuda'"
      ]
     },
     "execution_count": 1,
     "metadata": {},
     "output_type": "execute_result"
    }
   ],
   "source": [
    "import torch\n",
    "import pandas as pd\n",
    "import numpy as np\n",
    "import torch.nn as nn\n",
    "import torch.nn.functional as F\n",
    "from torch.utils.data import Dataset, DataLoader\n",
    "import matplotlib.pylab as plt\n",
    "from tqdm.autonotebook import tqdm\n",
    "DEVICE = \"cuda\" if torch.cuda.is_available() else \"cpu\"\n",
    "DEVICE"
   ]
  },
  {
   "cell_type": "code",
   "execution_count": 2,
   "metadata": {
    "collapsed": false,
    "jupyter": {
     "outputs_hidden": false
    },
    "pycharm": {
     "name": "#%%\n"
    }
   },
   "outputs": [],
   "source": [
    "train_frame = pd.read_pickle(\"../../data/train_data.pkl\")\n",
    "#train_frame = train_frame.iloc[-1:]\n",
    "test_frame = pd.read_pickle(\"../../data/test_data.pkl\")"
   ]
  },
  {
   "cell_type": "code",
   "execution_count": 3,
   "metadata": {
    "collapsed": false,
    "jupyter": {
     "outputs_hidden": false
    },
    "pycharm": {
     "name": "#%%\n"
    }
   },
   "outputs": [],
   "source": [
    "class TraceDataset(Dataset):\n",
    "    def __init__(self, dataframe):\n",
    "        self.dataframe = dataframe\n",
    "\n",
    "    def __len__(self):\n",
    "        return len(self.dataframe)\n",
    "\n",
    "    def __getitem__(self, idx):\n",
    "        input = torch.tensor(train_frame.iloc[idx]['input'], dtype=torch.float32)\n",
    "        target = torch.tensor(train_frame.iloc[idx]['target'], dtype=torch.float32)\n",
    "        return input, target\n",
    "\n",
    "train_dataset = TraceDataset(train_frame)\n",
    "test_dataset = TraceDataset(test_frame)\n",
    "train_dataloader = DataLoader(train_dataset, batch_size=1, shuffle=True)\n",
    "test_dataloader = DataLoader(test_dataset, batch_size=1, shuffle=True)"
   ]
  },
  {
   "cell_type": "code",
   "execution_count": 15,
   "metadata": {
    "collapsed": false,
    "jupyter": {
     "outputs_hidden": false
    },
    "pycharm": {
     "name": "#%%\n"
    }
   },
   "outputs": [],
   "source": [
    "def bicycle_model_eval(input, last_pose):\n",
    "    # This version takes in an input of dim 5\n",
    "    trace = []#torch.zeros((80, 3))\n",
    "    states = []#torch.zeros((80, 5))\n",
    "    start_v = input[0]\n",
    "    trace.append(last_pose.clone().detach().requires_grad_(True))\n",
    "    L = 0.3302\n",
    "    TS = 0.1\n",
    "    X, Y, THETA = 0, 1, 2\n",
    "    dX, dY, dTHETA, dV, V = 0, 1, 2, 3, 4\n",
    "    #states[0, 0:3] = input[0:3]\n",
    "    #states[0, V] = input[3]\n",
    "    states.append(torch.tensor([0,0,0,input[2],input[0]]))\n",
    "    for i in range(1,81):\n",
    "        # Advance bicycle model\n",
    "        states.append([states[-1][V] * torch.cos(trace[-1][THETA]),\n",
    "                       states[-1][V] * torch.sin(trace[-1][THETA]),\n",
    "                       (states[-1][V] * torch.tan(input[1])) / L,\n",
    "                       input[2],\n",
    "                       states[i-1][V] + TS*input[2]])\n",
    "        #states[i, dX] = states[i-1,V] * torch.cos(trace[i-1,THETA])\n",
    "        #states[i, dY] = states[i-1,V] * torch.sin(trace[i-1,THETA])\n",
    "        #states[i, dTHETA] = (states[i-1,V] * torch.tan(input[4])) / L\n",
    "        #states[i, dV] = input[5]\n",
    "        #states[i, V] = states[i-1, V] + TS*states[i, dV]\n",
    "        trace.append(trace[-1] + TS*torch.tensor(states[-1][0:3], dtype=torch.float32))\n",
    "    trace.pop(0)\n",
    "    return torch.vstack(trace)\n",
    "\n",
    "def custom_loss_func(prediction, target, output):\n",
    "    loss = F.mse_loss(prediction, target)\n",
    "    loss += 10*output[0] if output[0]<0 else 0\n",
    "    loss += 2*torch.linalg.norm(output)**2\n",
    "    return loss\n",
    "\n",
    "class LSTMPredictor(nn.Module):\n",
    "    def __init__(self, input_dim=3, hidden_dim=10, target_size=3):\n",
    "        super(LSTMPredictor, self).__init__()\n",
    "        self.hidden_dim = hidden_dim\n",
    "\n",
    "        # The LSTM takes word embeddings as inputs, and outputs hidden states\n",
    "        # with dimensionality hidden_dim.\n",
    "        self.lstm = nn.LSTM(input_dim, hidden_dim, num_layers=2, batch_first=True)\n",
    "\n",
    "        # The linear layer that maps from hidden state space to tag space\n",
    "        self.hidden2output = nn.Sequential(\n",
    "            nn.Linear(hidden_dim, hidden_dim),\n",
    "            nn.Linear(hidden_dim, target_size)\n",
    "        )\n",
    "\n",
    "    def forward(self, inputs):\n",
    "        lstm_out, _ = self.lstm(inputs)\n",
    "        output = self.hidden2output(lstm_out)\n",
    "        return output"
   ]
  },
  {
   "cell_type": "code",
   "execution_count": 16,
   "metadata": {
    "collapsed": false,
    "jupyter": {
     "outputs_hidden": false
    },
    "pycharm": {
     "name": "#%%\n"
    }
   },
   "outputs": [
    {
     "data": {
      "text/plain": [
       "<All keys matched successfully>"
      ]
     },
     "execution_count": 16,
     "metadata": {},
     "output_type": "execute_result"
    }
   ],
   "source": [
    "net = LSTMPredictor()\n",
    "net.load_state_dict(torch.load(\"best_simple_bicycle.pt\"))"
   ]
  },
  {
   "cell_type": "code",
   "execution_count": 17,
   "metadata": {
    "collapsed": false,
    "jupyter": {
     "outputs_hidden": false
    },
    "pycharm": {
     "name": "#%%\n"
    }
   },
   "outputs": [
    {
     "data": {
      "text/plain": [
       "tensor([[-58.9267,  31.1195,   2.0114],\n",
       "        [-59.0875,  31.4569,   2.0265],\n",
       "        [-59.2471,  31.7847,   2.0320],\n",
       "        [-59.4060,  32.1001,   2.0484],\n",
       "        [-59.5651,  32.4038,   2.0645],\n",
       "        [-59.7262,  32.6999,   2.0798],\n",
       "        [-59.8943,  32.9917,   2.1144],\n",
       "        [-60.0724,  33.2777,   2.1533],\n",
       "        [-60.2605,  33.5560,   2.1888],\n",
       "        [-60.4569,  33.8287,   2.2108]], dtype=torch.float64)"
      ]
     },
     "execution_count": 17,
     "metadata": {},
     "output_type": "execute_result"
    }
   ],
   "source": [
    "torch.tensor(train_frame.iloc[0]['input'])"
   ]
  },
  {
   "cell_type": "code",
   "execution_count": 18,
   "metadata": {
    "collapsed": false,
    "jupyter": {
     "outputs_hidden": false
    },
    "pycharm": {
     "name": "#%%\n"
    }
   },
   "outputs": [
    {
     "data": {
      "text/plain": [
       "torch.Size([10, 3])"
      ]
     },
     "execution_count": 18,
     "metadata": {},
     "output_type": "execute_result"
    }
   ],
   "source": [
    "inp = torch.tensor(train_frame.iloc[0]['input'], dtype=torch.float32)\n",
    "outp = net(torch.tensor(train_frame.iloc[0]['input'], dtype=torch.float32))\n",
    "target = torch.tensor(train_frame.iloc[0]['target'], dtype=torch.float32)\n",
    "outp.shape"
   ]
  },
  {
   "cell_type": "code",
   "execution_count": 19,
   "metadata": {
    "collapsed": false,
    "jupyter": {
     "outputs_hidden": false
    },
    "pycharm": {
     "name": "#%%\n"
    }
   },
   "outputs": [
    {
     "data": {
      "text/plain": [
       "tensor([-64.6325,  -3.2230,  -1.1165], grad_fn=<SelectBackward0>)"
      ]
     },
     "execution_count": 19,
     "metadata": {},
     "output_type": "execute_result"
    }
   ],
   "source": [
    "outp[-1]"
   ]
  },
  {
   "cell_type": "code",
   "execution_count": 20,
   "metadata": {
    "collapsed": false,
    "jupyter": {
     "outputs_hidden": false
    },
    "pycharm": {
     "name": "#%%\n"
    }
   },
   "outputs": [
    {
     "data": {
      "text/plain": [
       "tensor([[-56.5969,  28.6448,   3.8072],\n",
       "        [-51.5044,  32.6428,   5.4063],\n",
       "        [-55.6520,  37.6288,   7.0081],\n",
       "        [-60.5152,  33.3209,   8.6127],\n",
       "        [-56.0377,  28.5981,  10.2201],\n",
       "        [-51.4739,  33.2532,  11.8302],\n",
       "        [-56.3131,  37.6379,  13.4431],\n",
       "        [-60.4975,  32.6099,  15.0587],\n",
       "        [-55.2781,  28.6484,  16.6771],\n",
       "        [-51.5631,  34.0595,  18.2983],\n",
       "        [-57.1639,  37.5034,  19.9222],\n",
       "        [-60.3109,  31.7178,  21.5488],\n",
       "        [-54.3485,  28.8940,  23.1783],\n",
       "        [-51.8748,  35.0220,  24.8104],\n",
       "        [-58.1535,  37.1187,  26.4454],\n",
       "        [-59.8463,  30.7077,  28.0831],\n",
       "        [-53.3255,  29.4451,  29.7235],\n",
       "        [-52.5185,  36.0491,  31.3668],\n",
       "        [-59.1747,  36.3766,  33.0127],\n",
       "        [-59.0011,  29.7035,  34.6614],\n",
       "        [-52.3507,  30.3972,  36.3129],\n",
       "        [-53.5802,  36.9811,  37.9672],\n",
       "        [-60.0495,  35.2041,  39.6242],\n",
       "        [-57.7182,  28.9014,  41.2839],\n",
       "        [-51.6375,  31.7882,  42.9465],\n",
       "        [-55.0747,  37.5886,  44.6117],\n",
       "        [-60.5340,  33.6129,  46.2798],\n",
       "        [-56.0397,  28.5570,  47.9505],\n",
       "        [-51.4501,  33.5418,  49.6241],\n",
       "        [-56.8883,  37.6025,  51.3004],\n",
       "        [-60.3595,  31.7573,  52.9795],\n",
       "        [-54.1633,  28.9335,  54.6613],\n",
       "        [-52.0398,  35.4150,  56.3458],\n",
       "        [-58.7315,  36.7911,  58.0332],\n",
       "        [-59.3212,  29.9737,  59.7233],\n",
       "        [-52.4709,  30.1999,  61.4161],\n",
       "        [-53.5312,  36.9827,  63.1117],\n",
       "        [-60.1400,  35.0833,  64.8101],\n",
       "        [-57.4107,  28.7596,  66.5112],\n",
       "        [-51.4857,  32.2932,  68.2151],\n",
       "        [-55.7812,  37.7057,  69.9217],\n",
       "        [-60.5699,  32.7087,  71.6311],\n",
       "        [-54.9502,  28.6498,  73.3433],\n",
       "        [-51.7183,  34.7951,  75.0582],\n",
       "        [-58.2746,  37.1147,  76.7758],\n",
       "        [-59.6119,  30.2785,  78.4963],\n",
       "        [-52.6416,  29.9748,  80.2195],\n",
       "        [-53.4007,  36.9215,  81.9454],\n",
       "        [-60.1574,  35.0952,  83.6741],\n",
       "        [-57.2868,  28.6996,  85.4055],\n",
       "        [-51.4234,  32.5624,  87.1398],\n",
       "        [-56.1963,  37.7275,  88.8767],\n",
       "        [-60.5075,  32.1571,  90.6165],\n",
       "        [-54.2818,  28.8385,  92.3589],\n",
       "        [-52.0722,  35.5503,  94.1042],\n",
       "        [-59.0766,  36.5631,  95.8522],\n",
       "        [-58.8385,  29.4787,  97.6029],\n",
       "        [-51.9001,  30.9834,  99.3565],\n",
       "        [-54.6448,  37.5431, 101.1127],\n",
       "        [-60.5952,  33.6296, 102.8718],\n",
       "        [-55.6296,  28.5087, 104.6335],\n",
       "        [-51.5380,  34.3653, 106.3981],\n",
       "        [-58.0830,  37.2572, 108.1654],\n",
       "        [-59.6439,  30.2626, 109.9354],\n",
       "        [-52.4676,  30.1170, 111.7083],\n",
       "        [-53.7668,  37.1876, 113.4838],\n",
       "        [-60.4358,  34.4734, 115.2622],\n",
       "        [-56.3995,  28.4976, 117.0433],\n",
       "        [-51.3901,  33.7004, 118.8271],\n",
       "        [-57.5441,  37.5023, 120.6137],\n",
       "        [-59.9437,  30.6664, 122.4031],\n",
       "        [-52.7390,  29.8048, 124.1952],\n",
       "        [-53.4811,  37.0339, 125.9901],\n",
       "        [-60.3752,  34.7004, 127.7877],\n",
       "        [-56.5451,  28.4983, 129.5881],\n",
       "        [-51.3695,  33.6473, 131.3913],\n",
       "        [-57.5814,  37.5041, 133.1972],\n",
       "        [-59.8885,  30.5540, 135.0058],\n",
       "        [-52.5794,  29.9486, 136.8173],\n",
       "        [-53.7350,  37.2024, 138.6314]], grad_fn=<CatBackward0>)"
      ]
     },
     "execution_count": 20,
     "metadata": {},
     "output_type": "execute_result"
    }
   ],
   "source": [
    "outp_trace = bicycle_model_eval(outp[-1], inp[-1])\n",
    "outp_trace"
   ]
  },
  {
   "cell_type": "code",
   "execution_count": 21,
   "metadata": {
    "collapsed": false,
    "jupyter": {
     "outputs_hidden": false
    },
    "pycharm": {
     "name": "#%%\n"
    }
   },
   "outputs": [
    {
     "data": {
      "text/plain": [
       "<matplotlib.legend.Legend at 0x7fd8311642b0>"
      ]
     },
     "execution_count": 21,
     "metadata": {},
     "output_type": "execute_result"
    },
    {
     "data": {
      "image/png": "[encoded data removed]",
      "text/plain": [
       "<Figure size 432x288 with 1 Axes>"
      ]
     },
     "metadata": {
      "needs_background": "light"
     },
     "output_type": "display_data"
    }
   ],
   "source": [
    "plt.plot(outp_trace[:,0].detach().numpy(), outp_trace[:,1].detach().numpy(), marker='o', label='Predicted')\n",
    "plt.plot(target[:,0].detach().numpy(), target[:,1].detach().numpy(), marker='o', label='Target')\n",
    "plt.legend()"
   ]
  },
  {
   "cell_type": "code",
   "execution_count": 22,
   "metadata": {
    "collapsed": false,
    "jupyter": {
     "outputs_hidden": false
    },
    "pycharm": {
     "name": "#%%\n"
    }
   },
   "outputs": [
    {
     "data": {
      "text/plain": [
       "<matplotlib.legend.Legend at 0x7fd8306cc1f0>"
      ]
     },
     "execution_count": 22,
     "metadata": {},
     "output_type": "execute_result"
    },
    {
     "data": {
      "image/png": "[encoded data removed]",
      "text/plain": [
       "<Figure size 432x288 with 1 Axes>"
      ]
     },
     "metadata": {
      "needs_background": "light"
     },
     "output_type": "display_data"
    }
   ],
   "source": [
    "plt.plot(outp_trace[:,0].detach().numpy(), outp_trace[:,1].detach().numpy(), marker='o', label='Predicted')\n",
    "plt.plot(target[:10,0].detach().numpy(), target[:10,1].detach().numpy(), marker='o', label='Target')\n",
    "plt.legend()"
   ]
  },
  {
   "cell_type": "code",
   "execution_count": 23,
   "metadata": {
    "collapsed": false,
    "jupyter": {
     "outputs_hidden": false
    },
    "pycharm": {
     "name": "#%%\n"
    }
   },
   "outputs": [
    {
     "data": {
      "text/plain": [
       "tensor([[0.7774, 0.0306, 0.5629],\n",
       "        [0.5104, 0.1553, 0.1223],\n",
       "        [0.7351, 0.5903, 0.3751],\n",
       "        [0.8642, 0.5919, 0.2521],\n",
       "        [0.8156, 0.6098, 0.8425],\n",
       "        [0.3920, 0.4442, 0.8278],\n",
       "        [0.9444, 0.3471, 0.3953],\n",
       "        [0.6373, 0.5589, 0.9412],\n",
       "        [0.2454, 0.3498, 0.8160],\n",
       "        [0.0415, 0.8656, 0.4123]])"
      ]
     },
     "execution_count": 23,
     "metadata": {},
     "output_type": "execute_result"
    }
   ],
   "source": [
    "torch.vstack([torch.rand((3,)) for _ in range(10)])"
   ]
  },
  {
   "cell_type": "code",
   "execution_count": 24,
   "metadata": {
    "collapsed": false,
    "jupyter": {
     "outputs_hidden": false
    },
    "pycharm": {
     "name": "#%%\n"
    }
   },
   "outputs": [
    {
     "data": {
      "text/plain": [
       "tensor(2193.5940, grad_fn=<MseLossBackward0>)"
      ]
     },
     "execution_count": 24,
     "metadata": {},
     "output_type": "execute_result"
    }
   ],
   "source": [
    "loss = nn.MSELoss()\n",
    "loss(outp_trace,torch.tensor(train_frame.iloc[0]['target'], dtype=torch.float32))"
   ]
  },
  {
   "cell_type": "code",
   "execution_count": 26,
   "metadata": {
    "collapsed": false,
    "jupyter": {
     "outputs_hidden": false
    },
    "pycharm": {
     "name": "#%%\n"
    }
   },
   "outputs": [
    {
     "data": {
      "application/vnd.jupyter.widget-view+json": {
       "model_id": "b2626bb5518c4cb08c9f895a4f9c26e5",
       "version_major": 2,
       "version_minor": 0
      },
      "text/plain": [
       "  0%|          | 0/470 [00:00<?, ?it/s]"
      ]
     },
     "metadata": {},
     "output_type": "display_data"
    },
    {
     "data": {
      "image/png": "[encoded data removed]",
      "text/plain": [
       "<Figure size 432x288 with 1 Axes>"
      ]
     },
     "metadata": {
      "needs_background": "light"
     },
     "output_type": "display_data"
    },
    {
     "name": "stdout",
     "output_type": "stream",
     "text": [
      "174.3002274005971\n"
     ]
    },
    {
     "data": {
      "application/vnd.jupyter.widget-view+json": {
       "model_id": "b2081b0c256a465caa1e6778e5b16991",
       "version_major": 2,
       "version_minor": 0
      },
      "text/plain": [
       "  0%|          | 0/118 [00:00<?, ?it/s]"
      ]
     },
     "metadata": {},
     "output_type": "display_data"
    },
    {
     "data": {
      "image/png": "[encoded data removed]",
      "text/plain": [
       "<Figure size 432x288 with 1 Axes>"
      ]
     },
     "metadata": {
      "needs_background": "light"
     },
     "output_type": "display_data"
    },
    {
     "name": "stdout",
     "output_type": "stream",
     "text": [
      "195.7841792834007\n",
      "Epoch 0 | Train Loss: 174.3002274005971 | Test Loss: 195.7841792834007\n"
     ]
    },
    {
     "data": {
      "application/vnd.jupyter.widget-view+json": {
       "model_id": "13100ff7ba0c46ce95c165f23976d662",
       "version_major": 2,
       "version_minor": 0
      },
      "text/plain": [
       "  0%|          | 0/470 [00:00<?, ?it/s]"
      ]
     },
     "metadata": {},
     "output_type": "display_data"
    },
    {
     "ename": "KeyboardInterrupt",
     "evalue": "",
     "output_type": "error",
     "traceback": [
      "\u001b[0;31m---------------------------------------------------------------------------\u001b[0m",
      "\u001b[0;31mKeyboardInterrupt\u001b[0m                         Traceback (most recent call last)",
      "Input \u001b[0;32mIn [26]\u001b[0m, in \u001b[0;36m<cell line: 10>\u001b[0;34m()\u001b[0m\n\u001b[1;32m     18\u001b[0m target_data \u001b[38;5;241m=\u001b[39m target_data\u001b[38;5;241m.\u001b[39msqueeze()\n\u001b[1;32m     19\u001b[0m \u001b[38;5;66;03m#print(outp.shape)\u001b[39;00m\n\u001b[0;32m---> 20\u001b[0m outp_trace \u001b[38;5;241m=\u001b[39m \u001b[43mbicycle_model_eval\u001b[49m\u001b[43m(\u001b[49m\u001b[43moutp\u001b[49m\u001b[43m[\u001b[49m\u001b[38;5;241;43m-\u001b[39;49m\u001b[38;5;241;43m1\u001b[39;49m\u001b[43m]\u001b[49m\u001b[43m,\u001b[49m\u001b[43m \u001b[49m\u001b[43minput_data\u001b[49m\u001b[43m[\u001b[49m\u001b[38;5;241;43m-\u001b[39;49m\u001b[38;5;241;43m1\u001b[39;49m\u001b[43m]\u001b[49m\u001b[38;5;241;43m.\u001b[39;49m\u001b[43mdetach\u001b[49m\u001b[43m(\u001b[49m\u001b[43m)\u001b[49m\u001b[38;5;241;43m.\u001b[39;49m\u001b[43mclone\u001b[49m\u001b[43m(\u001b[49m\u001b[43m)\u001b[49m\u001b[38;5;241;43m.\u001b[39;49m\u001b[43mto\u001b[49m\u001b[43m(\u001b[49m\u001b[38;5;124;43m\"\u001b[39;49m\u001b[38;5;124;43mcpu\u001b[39;49m\u001b[38;5;124;43m\"\u001b[39;49m\u001b[43m)\u001b[49m\u001b[43m)\u001b[49m\u001b[38;5;241m.\u001b[39mto(DEVICE)\n\u001b[1;32m     21\u001b[0m loss \u001b[38;5;241m=\u001b[39m custom_loss_func(outp_trace, target_data\u001b[38;5;241m.\u001b[39msqueeze()\u001b[38;5;241m.\u001b[39mto(DEVICE), outp[\u001b[38;5;241m-\u001b[39m\u001b[38;5;241m1\u001b[39m])\n\u001b[1;32m     22\u001b[0m loss\u001b[38;5;241m.\u001b[39mbackward()\n",
      "Input \u001b[0;32mIn [15]\u001b[0m, in \u001b[0;36mbicycle_model_eval\u001b[0;34m(input, last_pose)\u001b[0m\n\u001b[1;32m     13\u001b[0m states\u001b[38;5;241m.\u001b[39mappend(torch\u001b[38;5;241m.\u001b[39mtensor([\u001b[38;5;241m0\u001b[39m,\u001b[38;5;241m0\u001b[39m,\u001b[38;5;241m0\u001b[39m,\u001b[38;5;28minput\u001b[39m[\u001b[38;5;241m2\u001b[39m],\u001b[38;5;28minput\u001b[39m[\u001b[38;5;241m0\u001b[39m]]))\n\u001b[1;32m     14\u001b[0m \u001b[38;5;28;01mfor\u001b[39;00m i \u001b[38;5;129;01min\u001b[39;00m \u001b[38;5;28mrange\u001b[39m(\u001b[38;5;241m1\u001b[39m,\u001b[38;5;241m81\u001b[39m):\n\u001b[1;32m     15\u001b[0m     \u001b[38;5;66;03m# Advance bicycle model\u001b[39;00m\n\u001b[0;32m---> 16\u001b[0m     states\u001b[38;5;241m.\u001b[39mappend([states[\u001b[38;5;241m-\u001b[39m\u001b[38;5;241m1\u001b[39m][V] \u001b[38;5;241m*\u001b[39m torch\u001b[38;5;241m.\u001b[39mcos(\u001b[43mtrace\u001b[49m\u001b[43m[\u001b[49m\u001b[38;5;241;43m-\u001b[39;49m\u001b[38;5;241;43m1\u001b[39;49m\u001b[43m]\u001b[49m\u001b[43m[\u001b[49m\u001b[43mTHETA\u001b[49m\u001b[43m]\u001b[49m),\n\u001b[1;32m     17\u001b[0m                    states[\u001b[38;5;241m-\u001b[39m\u001b[38;5;241m1\u001b[39m][V] \u001b[38;5;241m*\u001b[39m torch\u001b[38;5;241m.\u001b[39msin(trace[\u001b[38;5;241m-\u001b[39m\u001b[38;5;241m1\u001b[39m][THETA]),\n\u001b[1;32m     18\u001b[0m                    (states[\u001b[38;5;241m-\u001b[39m\u001b[38;5;241m1\u001b[39m][V] \u001b[38;5;241m*\u001b[39m torch\u001b[38;5;241m.\u001b[39mtan(\u001b[38;5;28minput\u001b[39m[\u001b[38;5;241m1\u001b[39m])) \u001b[38;5;241m/\u001b[39m L,\n\u001b[1;32m     19\u001b[0m                    \u001b[38;5;28minput\u001b[39m[\u001b[38;5;241m2\u001b[39m],\n\u001b[1;32m     20\u001b[0m                    states[i\u001b[38;5;241m-\u001b[39m\u001b[38;5;241m1\u001b[39m][V] \u001b[38;5;241m+\u001b[39m TS\u001b[38;5;241m*\u001b[39m\u001b[38;5;28minput\u001b[39m[\u001b[38;5;241m2\u001b[39m]])\n\u001b[1;32m     21\u001b[0m     \u001b[38;5;66;03m#states[i, dX] = states[i-1,V] * torch.cos(trace[i-1,THETA])\u001b[39;00m\n\u001b[1;32m     22\u001b[0m     \u001b[38;5;66;03m#states[i, dY] = states[i-1,V] * torch.sin(trace[i-1,THETA])\u001b[39;00m\n\u001b[1;32m     23\u001b[0m     \u001b[38;5;66;03m#states[i, dTHETA] = (states[i-1,V] * torch.tan(input[4])) / L\u001b[39;00m\n\u001b[1;32m     24\u001b[0m     \u001b[38;5;66;03m#states[i, dV] = input[5]\u001b[39;00m\n\u001b[1;32m     25\u001b[0m     \u001b[38;5;66;03m#states[i, V] = states[i-1, V] + TS*states[i, dV]\u001b[39;00m\n\u001b[1;32m     26\u001b[0m     trace\u001b[38;5;241m.\u001b[39mappend(trace[\u001b[38;5;241m-\u001b[39m\u001b[38;5;241m1\u001b[39m] \u001b[38;5;241m+\u001b[39m TS\u001b[38;5;241m*\u001b[39mtorch\u001b[38;5;241m.\u001b[39mtensor(states[\u001b[38;5;241m-\u001b[39m\u001b[38;5;241m1\u001b[39m][\u001b[38;5;241m0\u001b[39m:\u001b[38;5;241m3\u001b[39m], dtype\u001b[38;5;241m=\u001b[39mtorch\u001b[38;5;241m.\u001b[39mfloat32))\n",
      "File \u001b[0;32m/usr/lib/python3.9/traceback.py:197\u001b[0m, in \u001b[0;36mformat_stack\u001b[0;34m(f, limit)\u001b[0m\n\u001b[1;32m    195\u001b[0m \u001b[38;5;28;01mif\u001b[39;00m f \u001b[38;5;129;01mis\u001b[39;00m \u001b[38;5;28;01mNone\u001b[39;00m:\n\u001b[1;32m    196\u001b[0m     f \u001b[38;5;241m=\u001b[39m sys\u001b[38;5;241m.\u001b[39m_getframe()\u001b[38;5;241m.\u001b[39mf_back\n\u001b[0;32m--> 197\u001b[0m \u001b[38;5;28;01mreturn\u001b[39;00m format_list(\u001b[43mextract_stack\u001b[49m\u001b[43m(\u001b[49m\u001b[43mf\u001b[49m\u001b[43m,\u001b[49m\u001b[43m \u001b[49m\u001b[43mlimit\u001b[49m\u001b[38;5;241;43m=\u001b[39;49m\u001b[43mlimit\u001b[49m\u001b[43m)\u001b[49m)\n",
      "File \u001b[0;32m/usr/lib/python3.9/traceback.py:211\u001b[0m, in \u001b[0;36mextract_stack\u001b[0;34m(f, limit)\u001b[0m\n\u001b[1;32m    209\u001b[0m \u001b[38;5;28;01mif\u001b[39;00m f \u001b[38;5;129;01mis\u001b[39;00m \u001b[38;5;28;01mNone\u001b[39;00m:\n\u001b[1;32m    210\u001b[0m     f \u001b[38;5;241m=\u001b[39m sys\u001b[38;5;241m.\u001b[39m_getframe()\u001b[38;5;241m.\u001b[39mf_back\n\u001b[0;32m--> 211\u001b[0m stack \u001b[38;5;241m=\u001b[39m \u001b[43mStackSummary\u001b[49m\u001b[38;5;241;43m.\u001b[39;49m\u001b[43mextract\u001b[49m\u001b[43m(\u001b[49m\u001b[43mwalk_stack\u001b[49m\u001b[43m(\u001b[49m\u001b[43mf\u001b[49m\u001b[43m)\u001b[49m\u001b[43m,\u001b[49m\u001b[43m \u001b[49m\u001b[43mlimit\u001b[49m\u001b[38;5;241;43m=\u001b[39;49m\u001b[43mlimit\u001b[49m\u001b[43m)\u001b[49m\n\u001b[1;32m    212\u001b[0m stack\u001b[38;5;241m.\u001b[39mreverse()\n\u001b[1;32m    213\u001b[0m \u001b[38;5;28;01mreturn\u001b[39;00m stack\n",
      "File \u001b[0;32m/usr/lib/python3.9/traceback.py:362\u001b[0m, in \u001b[0;36mStackSummary.extract\u001b[0;34m(klass, frame_gen, limit, lookup_lines, capture_locals)\u001b[0m\n\u001b[1;32m    359\u001b[0m     result\u001b[38;5;241m.\u001b[39mappend(FrameSummary(\n\u001b[1;32m    360\u001b[0m         filename, lineno, name, lookup_line\u001b[38;5;241m=\u001b[39m\u001b[38;5;28;01mFalse\u001b[39;00m, \u001b[38;5;28mlocals\u001b[39m\u001b[38;5;241m=\u001b[39mf_locals))\n\u001b[1;32m    361\u001b[0m \u001b[38;5;28;01mfor\u001b[39;00m filename \u001b[38;5;129;01min\u001b[39;00m fnames:\n\u001b[0;32m--> 362\u001b[0m     \u001b[43mlinecache\u001b[49m\u001b[38;5;241;43m.\u001b[39;49m\u001b[43mcheckcache\u001b[49m\u001b[43m(\u001b[49m\u001b[43mfilename\u001b[49m\u001b[43m)\u001b[49m\n\u001b[1;32m    363\u001b[0m \u001b[38;5;66;03m# If immediate lookup was desired, trigger lookups now.\u001b[39;00m\n\u001b[1;32m    364\u001b[0m \u001b[38;5;28;01mif\u001b[39;00m lookup_lines:\n",
      "File \u001b[0;32m~/.local/share/virtualenvs/VehicleMotionPrediction-ZxAbpHqp/lib/python3.9/site-packages/IPython/core/compilerop.py:193\u001b[0m, in \u001b[0;36mcheck_linecache_ipython\u001b[0;34m(*args)\u001b[0m\n\u001b[1;32m    190\u001b[0m \u001b[38;5;124;03m\"\"\"Call linecache.checkcache() safely protecting our cached values.\u001b[39;00m\n\u001b[1;32m    191\u001b[0m \u001b[38;5;124;03m\"\"\"\u001b[39;00m\n\u001b[1;32m    192\u001b[0m \u001b[38;5;66;03m# First call the original checkcache as intended\u001b[39;00m\n\u001b[0;32m--> 193\u001b[0m \u001b[43mlinecache\u001b[49m\u001b[38;5;241;43m.\u001b[39;49m\u001b[43m_checkcache_ori\u001b[49m\u001b[43m(\u001b[49m\u001b[38;5;241;43m*\u001b[39;49m\u001b[43margs\u001b[49m\u001b[43m)\u001b[49m\n\u001b[1;32m    194\u001b[0m \u001b[38;5;66;03m# Then, update back the cache with our data, so that tracebacks related\u001b[39;00m\n\u001b[1;32m    195\u001b[0m \u001b[38;5;66;03m# to our compiled codes can be produced.\u001b[39;00m\n\u001b[1;32m    196\u001b[0m linecache\u001b[38;5;241m.\u001b[39mcache\u001b[38;5;241m.\u001b[39mupdate(linecache\u001b[38;5;241m.\u001b[39m_ipython_cache)\n",
      "File \u001b[0;32m/usr/lib/python3.9/linecache.py:76\u001b[0m, in \u001b[0;36mcheckcache\u001b[0;34m(filename)\u001b[0m\n\u001b[1;32m     74\u001b[0m     cache\u001b[38;5;241m.\u001b[39mpop(filename, \u001b[38;5;28;01mNone\u001b[39;00m)\n\u001b[1;32m     75\u001b[0m     \u001b[38;5;28;01mcontinue\u001b[39;00m\n\u001b[0;32m---> 76\u001b[0m \u001b[38;5;28;01mif\u001b[39;00m \u001b[43msize\u001b[49m\u001b[43m \u001b[49m\u001b[38;5;241;43m!=\u001b[39;49m\u001b[43m \u001b[49m\u001b[43mstat\u001b[49m\u001b[38;5;241;43m.\u001b[39;49m\u001b[43mst_size\u001b[49m \u001b[38;5;129;01mor\u001b[39;00m mtime \u001b[38;5;241m!=\u001b[39m stat\u001b[38;5;241m.\u001b[39mst_mtime:\n\u001b[1;32m     77\u001b[0m     cache\u001b[38;5;241m.\u001b[39mpop(filename, \u001b[38;5;28;01mNone\u001b[39;00m)\n",
      "\u001b[0;31mKeyboardInterrupt\u001b[0m: "
     ]
    }
   ],
   "source": [
    "# Training Loop\n",
    "torch.autograd.set_detect_anomaly(True)\n",
    "net = LSTMPredictor()\n",
    "net.to(DEVICE)\n",
    "loss_func = nn.MSELoss()\n",
    "optimizer = torch.optim.Adam(net.parameters(), lr=1e-2)\n",
    "train_losses = list()\n",
    "test_losses = list()\n",
    "\n",
    "for epoch in range(100):\n",
    "    cum_train_loss = 0.0\n",
    "    for input_data, target_data in tqdm(train_dataloader):\n",
    "        net.zero_grad()\n",
    "        input_data = input_data.squeeze().to(DEVICE)\n",
    "        outp = net(input_data)\n",
    "        outp = outp.squeeze()\n",
    "        outp = outp.to(\"cpu\")\n",
    "        target_data = target_data.squeeze()\n",
    "        #print(outp.shape)\n",
    "        outp_trace = bicycle_model_eval(outp[-1], input_data[-1].detach().clone().to(\"cpu\")).to(DEVICE)\n",
    "        loss = custom_loss_func(outp_trace, target_data.squeeze().to(DEVICE), outp[-1])\n",
    "        loss.backward()\n",
    "        optimizer.step()\n",
    "        cum_train_loss += loss.item()\n",
    "    plt.title(f\"Epoch {epoch} training plot: Params: {outp[-1]}\")\n",
    "    plt.plot(outp_trace[:,0].detach().cpu().numpy(), outp_trace[:,1].detach().cpu().numpy(), marker='o', label=\"Predicted\")\n",
    "    plt.plot(target_data[:,0].detach().cpu().numpy(), target_data[:,1].detach().cpu().numpy(), marker='o', label=\"Truth\")\n",
    "    plt.legend()\n",
    "    plt.show()\n",
    "    cum_train_loss /= len(train_dataset)\n",
    "    train_losses.append(cum_train_loss)\n",
    "    print(cum_train_loss)\n",
    "    cum_test_loss = 0.0\n",
    "    with torch.no_grad():\n",
    "        for input_data, target_data in tqdm(test_dataloader):\n",
    "            input_data = input_data.squeeze().to(DEVICE)\n",
    "            outp = net(input_data)\n",
    "            outp = outp.squeeze()\n",
    "            outp = outp.to(\"cpu\")\n",
    "            target_data = target_data.squeeze()\n",
    "            outp_trace = bicycle_model_eval(outp[-1], input_data[-1].detach().clone().to(\"cpu\")).to(DEVICE)\n",
    "            loss = custom_loss_func(outp_trace, target_data.squeeze().to(DEVICE), outp[-1])\n",
    "            cum_test_loss += loss.item()\n",
    "        plt.title(f\"Epoch {epoch} testing plot: Params: {outp[-1]}\")\n",
    "        plt.plot(outp_trace[:,0].detach().cpu().numpy(), outp_trace[:,1].detach().cpu().numpy(), marker='o', label=\"Predicted\")\n",
    "        plt.plot(target_data[:,0].detach().cpu().numpy(), target_data[:,1].detach().cpu().numpy(), marker='o', label=\"Truth\")\n",
    "        plt.legend()\n",
    "        plt.show()\n",
    "    cum_test_loss /= len(test_dataset)\n",
    "    test_losses.append(cum_test_loss)\n",
    "    if cum_test_loss <= min(test_losses):\n",
    "        torch.save(net.state_dict(), \"best_simple_bicycle.pt\")\n",
    "    print(cum_test_loss)\n",
    "    print(f\"Epoch {epoch} | Train Loss: {cum_train_loss} | Test Loss: {cum_test_loss}\")"
   ]
  },
  {
   "cell_type": "code",
   "execution_count": null,
   "metadata": {
    "collapsed": false,
    "jupyter": {
     "outputs_hidden": false
    },
    "pycharm": {
     "name": "#%%\n"
    }
   },
   "outputs": [],
   "source": [
    "plt.title(f\"Learning Curves\")\n",
    "plt.plot(train_losses, marker='o', label=\"Training Loss\")\n",
    "plt.plot(test_losses, marker='o', label=\"Testing Loss\")\n",
    "plt.legend()\n",
    "plt.show()"
   ]
  },
  {
   "cell_type": "code",
   "execution_count": null,
   "metadata": {},
   "outputs": [],
   "source": [
    "test_losses"
   ]
  },
  {
   "cell_type": "code",
   "execution_count": null,
   "metadata": {},
   "outputs": [],
   "source": []
  },
  {
   "cell_type": "code",
   "execution_count": null,
   "metadata": {},
   "outputs": [],
   "source": []
  }
 ],
 "metadata": {
  "kernelspec": {
   "display_name": "Python 3 (ipykernel)",
   "language": "python",
   "name": "python3"
  },
  "language_info": {
   "codemirror_mode": {
    "name": "ipython",
    "version": 3
   },
   "file_extension": ".py",
   "mimetype": "text/x-python",
   "name": "python",
   "nbconvert_exporter": "python",
   "pygments_lexer": "ipython3",
   "version": "3.9.5"
  }
 },
 "nbformat": 4,
 "nbformat_minor": 4
}
