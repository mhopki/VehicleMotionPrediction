{
 "cells": [
  {
   "cell_type": "code",
   "execution_count": 1,
   "metadata": {
    "tags": []
   },
   "outputs": [
    {
     "data": {
      "text/plain": [
       "'cuda'"
      ]
     },
     "execution_count": 1,
     "metadata": {},
     "output_type": "execute_result"
    }
   ],
   "source": [
    "import torch\n",
    "import pandas as pd\n",
    "import numpy as np\n",
    "import torch.nn as nn\n",
    "import torch.nn.functional as F\n",
    "from torch.utils.data import Dataset, DataLoader\n",
    "import matplotlib.pylab as plt\n",
    "from tqdm.autonotebook import tqdm\n",
    "DEVICE = \"cuda\" if torch.cuda.is_available() else \"cpu\"\n",
    "DEVICE"
   ]
  },
  {
   "cell_type": "code",
   "execution_count": 2,
   "metadata": {
    "collapsed": false,
    "jupyter": {
     "outputs_hidden": false
    },
    "pycharm": {
     "name": "#%%\n"
    }
   },
   "outputs": [],
   "source": [
    "train_frame = pd.read_pickle(\"../../data/train_data.pkl\")\n",
    "test_frame = pd.read_pickle(\"../../data/test_data.pkl\")"
   ]
  },
  {
   "cell_type": "code",
   "execution_count": 3,
   "metadata": {
    "collapsed": false,
    "jupyter": {
     "outputs_hidden": false
    },
    "pycharm": {
     "name": "#%%\n"
    }
   },
   "outputs": [],
   "source": [
    "class TraceDataset(Dataset):\n",
    "    def __init__(self, dataframe):\n",
    "        self.dataframe = dataframe\n",
    "\n",
    "    def __len__(self):\n",
    "        return len(self.dataframe)\n",
    "\n",
    "    def __getitem__(self, idx):\n",
    "        input = torch.tensor(train_frame.iloc[idx]['input'], dtype=torch.float32)\n",
    "        target = torch.tensor(train_frame.iloc[idx]['target'], dtype=torch.float32)\n",
    "        return input, target\n",
    "\n",
    "train_dataset = TraceDataset(train_frame)\n",
    "test_dataset = TraceDataset(test_frame)\n",
    "train_dataloader = DataLoader(train_dataset, batch_size=8, shuffle=True)\n",
    "test_dataloader = DataLoader(test_dataset, batch_size=8, shuffle=True)"
   ]
  },
  {
   "cell_type": "code",
   "execution_count": 4,
   "metadata": {
    "collapsed": false,
    "jupyter": {
     "outputs_hidden": false
    },
    "pycharm": {
     "name": "#%%\n"
    }
   },
   "outputs": [],
   "source": [
    "def bicycle_model_eval(input, last_pose):\n",
    "    # This version takes in an input of dim 5\n",
    "    trace = []#torch.zeros((80, 3))\n",
    "    states = []#torch.zeros((80, 5))\n",
    "    #start_x = input[0]\n",
    "    #start_y = input[1]\n",
    "    #start_theta = input[2]\n",
    "    start_v = input[0]\n",
    "    #trace[0,0:3] = input[0:3]\n",
    "    trace.append(last_pose)\n",
    "    L = 0.3302\n",
    "    TS = 0.1\n",
    "    X, Y, THETA = 0, 1, 2\n",
    "    dX, dY, dTHETA, dV, V = 0, 1, 2, 3, 4\n",
    "    #states[0, 0:3] = input[0:3]\n",
    "    #states[0, V] = input[3]\n",
    "    states.append(torch.tensor([0,0,0,input[2],input[0]]))\n",
    "    for i in range(1,81):\n",
    "        # Advance bicycle model\n",
    "        states.append([states[-1][V] * torch.cos(trace[-1][THETA]),\n",
    "                       states[-1][V] * torch.sin(trace[-1][THETA]),\n",
    "                       (states[-1][V] * torch.tan(input[1])) / L,\n",
    "                       input[2],\n",
    "                       states[i-1][V] + TS*input[2]])\n",
    "        #states[i, dX] = states[i-1,V] * torch.cos(trace[i-1,THETA])\n",
    "        #states[i, dY] = states[i-1,V] * torch.sin(trace[i-1,THETA])\n",
    "        #states[i, dTHETA] = (states[i-1,V] * torch.tan(input[4])) / L\n",
    "        #states[i, dV] = input[5]\n",
    "        #states[i, V] = states[i-1, V] + TS*states[i, dV]\n",
    "        trace.append(trace[-1] + TS*torch.tensor(states[-1][0:3], dtype=torch.float32))\n",
    "    trace.pop(0)\n",
    "    return torch.vstack(trace)\n",
    "\n",
    "class LSTMPredictor(nn.Module):\n",
    "    def __init__(self, input_dim=3, hidden_dim=10, target_size=3):\n",
    "        super(LSTMPredictor, self).__init__()\n",
    "        self.hidden_dim = hidden_dim\n",
    "\n",
    "        # The LSTM takes word embeddings as inputs, and outputs hidden states\n",
    "        # with dimensionality hidden_dim.\n",
    "        self.lstm = nn.LSTM(input_dim, hidden_dim, num_layers=2, batch_first=True)\n",
    "\n",
    "        # The linear layer that maps from hidden state space to tag space\n",
    "        self.hidden2output = nn.Sequential(\n",
    "            nn.Linear(hidden_dim, hidden_dim),\n",
    "            nn.Linear(hidden_dim, target_size)\n",
    "        )\n",
    "\n",
    "    def forward(self, inputs):\n",
    "        lstm_out, _ = self.lstm(inputs)\n",
    "        output = self.hidden2output(lstm_out)\n",
    "        return output"
   ]
  },
  {
   "cell_type": "code",
   "execution_count": 5,
   "metadata": {
    "collapsed": false,
    "jupyter": {
     "outputs_hidden": false
    },
    "pycharm": {
     "name": "#%%\n"
    }
   },
   "outputs": [],
   "source": [
    "net = LSTMPredictor()"
   ]
  },
  {
   "cell_type": "code",
   "execution_count": 6,
   "metadata": {
    "collapsed": false,
    "jupyter": {
     "outputs_hidden": false
    },
    "pycharm": {
     "name": "#%%\n"
    }
   },
   "outputs": [
    {
     "data": {
      "text/plain": [
       "tensor([[-58.9267,  31.1195,   2.0114],\n",
       "        [-59.0875,  31.4569,   2.0265],\n",
       "        [-59.2471,  31.7847,   2.0320],\n",
       "        [-59.4060,  32.1001,   2.0484],\n",
       "        [-59.5651,  32.4038,   2.0645],\n",
       "        [-59.7262,  32.6999,   2.0798],\n",
       "        [-59.8943,  32.9917,   2.1144],\n",
       "        [-60.0724,  33.2777,   2.1533],\n",
       "        [-60.2605,  33.5560,   2.1888],\n",
       "        [-60.4569,  33.8287,   2.2108]], dtype=torch.float64)"
      ]
     },
     "execution_count": 6,
     "metadata": {},
     "output_type": "execute_result"
    }
   ],
   "source": [
    "torch.tensor(train_frame.iloc[0]['input'])"
   ]
  },
  {
   "cell_type": "code",
   "execution_count": 10,
   "metadata": {
    "collapsed": false,
    "jupyter": {
     "outputs_hidden": false
    },
    "pycharm": {
     "name": "#%%\n"
    }
   },
   "outputs": [
    {
     "data": {
      "text/plain": [
       "torch.Size([10, 3])"
      ]
     },
     "execution_count": 10,
     "metadata": {},
     "output_type": "execute_result"
    }
   ],
   "source": [
    "inp = torch.tensor(train_frame.iloc[0]['input'], dtype=torch.float32)\n",
    "outp = net(torch.tensor(train_frame.iloc[0]['input'], dtype=torch.float32))\n",
    "target = torch.tensor(train_frame.iloc[0]['target'], dtype=torch.float32)\n",
    "outp.shape"
   ]
  },
  {
   "cell_type": "code",
   "execution_count": 11,
   "metadata": {
    "collapsed": false,
    "jupyter": {
     "outputs_hidden": false
    },
    "pycharm": {
     "name": "#%%\n"
    }
   },
   "outputs": [
    {
     "data": {
      "text/plain": [
       "tensor([-0.3544, -0.3471,  0.0177], grad_fn=<SelectBackward0>)"
      ]
     },
     "execution_count": 11,
     "metadata": {},
     "output_type": "execute_result"
    }
   ],
   "source": [
    "outp[-1]"
   ]
  },
  {
   "cell_type": "code",
   "execution_count": 12,
   "metadata": {
    "collapsed": false,
    "jupyter": {
     "outputs_hidden": false
    },
    "pycharm": {
     "name": "#%%\n"
    }
   },
   "outputs": [
    {
     "data": {
      "text/plain": [
       "tensor([[-60.4357,  33.8003,   2.2497],\n",
       "        [-60.4136,  33.7729,   2.2883],\n",
       "        [-60.3905,  33.7464,   2.3267],\n",
       "        [-60.3666,  33.7210,   2.3650],\n",
       "        [-60.3418,  33.6967,   2.4031],\n",
       "        [-60.3163,  33.6734,   2.4409],\n",
       "        [-60.2900,  33.6512,   2.4786],\n",
       "        [-60.2630,  33.6302,   2.5161],\n",
       "        [-60.2354,  33.6103,   2.5533],\n",
       "        [-60.2073,  33.5915,   2.5904],\n",
       "        [-60.1786,  33.5739,   2.6273],\n",
       "        [-60.1494,  33.5574,   2.6640],\n",
       "        [-60.1198,  33.5421,   2.7005],\n",
       "        [-60.0898,  33.5279,   2.7369],\n",
       "        [-60.0595,  33.5149,   2.7730],\n",
       "        [-60.0289,  33.5031,   2.8089],\n",
       "        [-59.9981,  33.4925,   2.8446],\n",
       "        [-59.9671,  33.4830,   2.8802],\n",
       "        [-59.9359,  33.4746,   2.9155],\n",
       "        [-59.9046,  33.4674,   2.9507],\n",
       "        [-59.8733,  33.4614,   2.9857],\n",
       "        [-59.8420,  33.4565,   3.0204],\n",
       "        [-59.8106,  33.4526,   3.0550],\n",
       "        [-59.7794,  33.4499,   3.0894],\n",
       "        [-59.7482,  33.4483,   3.1236],\n",
       "        [-59.7172,  33.4477,   3.1576],\n",
       "        [-59.6863,  33.4482,   3.1914],\n",
       "        [-59.6557,  33.4498,   3.2250],\n",
       "        [-59.6253,  33.4523,   3.2584],\n",
       "        [-59.5952,  33.4558,   3.2916],\n",
       "        [-59.5654,  33.4603,   3.3246],\n",
       "        [-59.5359,  33.4658,   3.3575],\n",
       "        [-59.5068,  33.4722,   3.3901],\n",
       "        [-59.4781,  33.4795,   3.4226],\n",
       "        [-59.4498,  33.4876,   3.4548],\n",
       "        [-59.4220,  33.4966,   3.4869],\n",
       "        [-59.3946,  33.5065,   3.5187],\n",
       "        [-59.3677,  33.5171,   3.5504],\n",
       "        [-59.3414,  33.5286,   3.5819],\n",
       "        [-59.3155,  33.5407,   3.6132],\n",
       "        [-59.2902,  33.5536,   3.6443],\n",
       "        [-59.2655,  33.5672,   3.6752],\n",
       "        [-59.2414,  33.5815,   3.7059],\n",
       "        [-59.2179,  33.5964,   3.7364],\n",
       "        [-59.1949,  33.6119,   3.7667],\n",
       "        [-59.1726,  33.6280,   3.7969],\n",
       "        [-59.1510,  33.6446,   3.8268],\n",
       "        [-59.1300,  33.6618,   3.8565],\n",
       "        [-59.1096,  33.6795,   3.8861],\n",
       "        [-59.0899,  33.6976,   3.9154],\n",
       "        [-59.0709,  33.7162,   3.9446],\n",
       "        [-59.0525,  33.7352,   3.9736],\n",
       "        [-59.0348,  33.7547,   4.0023],\n",
       "        [-59.0178,  33.7744,   4.0309],\n",
       "        [-59.0015,  33.7946,   4.0593],\n",
       "        [-58.9858,  33.8150,   4.0875],\n",
       "        [-58.9709,  33.8357,   4.1155],\n",
       "        [-58.9566,  33.8567,   4.1433],\n",
       "        [-58.9430,  33.8779,   4.1709],\n",
       "        [-58.9301,  33.8994,   4.1983],\n",
       "        [-58.9179,  33.9210,   4.2255],\n",
       "        [-58.9064,  33.9428,   4.2526],\n",
       "        [-58.8955,  33.9648,   4.2794],\n",
       "        [-58.8853,  33.9869,   4.3061],\n",
       "        [-58.8758,  34.0090,   4.3325],\n",
       "        [-58.8669,  34.0313,   4.3588],\n",
       "        [-58.8586,  34.0536,   4.3848],\n",
       "        [-58.8510,  34.0760,   4.4107],\n",
       "        [-58.8441,  34.0984,   4.4364],\n",
       "        [-58.8377,  34.1207,   4.4619],\n",
       "        [-58.8320,  34.1431,   4.4872],\n",
       "        [-58.8269,  34.1654,   4.5123],\n",
       "        [-58.8224,  34.1877,   4.5372],\n",
       "        [-58.8184,  34.2099,   4.5619],\n",
       "        [-58.8151,  34.2321,   4.5864],\n",
       "        [-58.8123,  34.2541,   4.6107],\n",
       "        [-58.8101,  34.2760,   4.6349],\n",
       "        [-58.8084,  34.2978,   4.6588],\n",
       "        [-58.8072,  34.3194,   4.6825],\n",
       "        [-58.8066,  34.3409,   4.7061]])"
      ]
     },
     "execution_count": 12,
     "metadata": {},
     "output_type": "execute_result"
    }
   ],
   "source": [
    "outp_trace = bicycle_model_eval(outp[-1], inp[-1])\n",
    "outp_trace"
   ]
  },
  {
   "cell_type": "code",
   "execution_count": null,
   "metadata": {
    "collapsed": false,
    "jupyter": {
     "outputs_hidden": false
    },
    "pycharm": {
     "name": "#%%\n"
    }
   },
   "outputs": [
    {
     "data": {
      "text/plain": [
       "<matplotlib.legend.Legend at 0x7fe1df550f10>"
      ]
     },
     "execution_count": 13,
     "metadata": {},
     "output_type": "execute_result"
    },
    {
     "data": {
      "image/png": "[encoded data removed]",
      "text/plain": [
       "<Figure size 432x288 with 1 Axes>"
      ]
     },
     "metadata": {
      "needs_background": "light"
     },
     "output_type": "display_data"
    }
   ],
   "source": [
    "plt.plot(outp_trace[:,0].detach().numpy(), outp_trace[:,1].detach().numpy(), marker='o', label='Predicted')\n",
    "plt.plot(target[:,0].detach().numpy(), target[:,1].detach().numpy(), marker='o', label='Target')\n",
    "plt.legend()"
   ]
  },
  {
   "cell_type": "code",
   "execution_count": null,
   "metadata": {
    "collapsed": false,
    "jupyter": {
     "outputs_hidden": false
    },
    "pycharm": {
     "name": "#%%\n"
    }
   },
   "outputs": [
    {
     "data": {
      "text/plain": [
       "tensor([[0.2172, 0.2158, 0.0574],\n",
       "        [0.1653, 0.6315, 0.7715],\n",
       "        [0.4030, 0.8329, 0.4153],\n",
       "        [0.6888, 0.5128, 0.8138],\n",
       "        [0.4654, 0.3858, 0.9149],\n",
       "        [0.5877, 0.0658, 0.4358],\n",
       "        [0.7196, 0.7540, 0.8397],\n",
       "        [0.8259, 0.7190, 0.1942],\n",
       "        [0.3641, 0.6395, 0.3374],\n",
       "        [0.5089, 0.3541, 0.2383]])"
      ]
     },
     "execution_count": 14,
     "metadata": {},
     "output_type": "execute_result"
    }
   ],
   "source": [
    "torch.vstack([torch.rand((3,)) for _ in range(10)])"
   ]
  },
  {
   "cell_type": "code",
   "execution_count": null,
   "metadata": {
    "collapsed": false,
    "jupyter": {
     "outputs_hidden": false
    },
    "pycharm": {
     "name": "#%%\n"
    }
   },
   "outputs": [
    {
     "data": {
      "text/plain": [
       "tensor(103.7527)"
      ]
     },
     "execution_count": 15,
     "metadata": {},
     "output_type": "execute_result"
    }
   ],
   "source": [
    "loss = nn.MSELoss()\n",
    "loss(outp_trace,torch.tensor(train_frame.iloc[0]['target'], dtype=torch.float32))"
   ]
  },
  {
   "cell_type": "code",
   "execution_count": null,
   "metadata": {
    "collapsed": false,
    "jupyter": {
     "outputs_hidden": false
    },
    "pycharm": {
     "name": "#%%\n"
    }
   },
   "outputs": [
    {
     "data": {
      "application/vnd.jupyter.widget-view+json": {
       "model_id": "f7eb2ef4bfe34caeaab71a2efc80ed4c",
       "version_major": 2,
       "version_minor": 0
      },
      "text/plain": [
       "  0%|          | 0/59 [00:00<?, ?it/s]"
      ]
     },
     "metadata": {},
     "output_type": "display_data"
    },
    {
     "name": "stdout",
     "output_type": "stream",
     "text": [
      "torch.Size([8, 10, 3])\n"
     ]
    },
    {
     "ename": "ValueError",
     "evalue": "only one element tensors can be converted to Python scalars",
     "output_type": "error",
     "traceback": [
      "\u001b[0;31m---------------------------------------------------------------------------\u001b[0m",
      "\u001b[0;31mValueError\u001b[0m                                Traceback (most recent call last)",
      "Input \u001b[0;32mIn [19]\u001b[0m, in \u001b[0;36m<cell line: 8>\u001b[0;34m()\u001b[0m\n\u001b[1;32m     16\u001b[0m target_data \u001b[38;5;241m=\u001b[39m target_data\u001b[38;5;241m.\u001b[39msqueeze()\n\u001b[1;32m     17\u001b[0m \u001b[38;5;28mprint\u001b[39m(input_data\u001b[38;5;241m.\u001b[39mshape)\n\u001b[0;32m---> 18\u001b[0m outp_trace \u001b[38;5;241m=\u001b[39m \u001b[43mbicycle_model_eval\u001b[49m\u001b[43m(\u001b[49m\u001b[43moutp\u001b[49m\u001b[43m[\u001b[49m\u001b[38;5;241;43m-\u001b[39;49m\u001b[38;5;241;43m1\u001b[39;49m\u001b[43m]\u001b[49m\u001b[43m,\u001b[49m\u001b[43m \u001b[49m\u001b[43minput_data\u001b[49m\u001b[38;5;241;43m.\u001b[39;49m\u001b[43msqueeze\u001b[49m\u001b[43m(\u001b[49m\u001b[43m)\u001b[49m\u001b[43m[\u001b[49m\u001b[38;5;241;43m-\u001b[39;49m\u001b[38;5;241;43m1\u001b[39;49m\u001b[43m]\u001b[49m\u001b[38;5;241;43m.\u001b[39;49m\u001b[43mto\u001b[49m\u001b[43m(\u001b[49m\u001b[38;5;124;43m\"\u001b[39;49m\u001b[38;5;124;43mcpu\u001b[39;49m\u001b[38;5;124;43m\"\u001b[39;49m\u001b[43m)\u001b[49m\u001b[43m)\u001b[49m\u001b[38;5;241m.\u001b[39mto(DEVICE)\n\u001b[1;32m     19\u001b[0m loss \u001b[38;5;241m=\u001b[39m loss_func(outp_trace, target_data\u001b[38;5;241m.\u001b[39msqueeze()\u001b[38;5;241m.\u001b[39mto(DEVICE))\n\u001b[1;32m     20\u001b[0m loss\u001b[38;5;241m.\u001b[39mbackward()\n",
      "Input \u001b[0;32mIn [4]\u001b[0m, in \u001b[0;36mbicycle_model_eval\u001b[0;34m(input, last_pose)\u001b[0m\n\u001b[1;32m     14\u001b[0m dX, dY, dTHETA, dV, V \u001b[38;5;241m=\u001b[39m \u001b[38;5;241m0\u001b[39m, \u001b[38;5;241m1\u001b[39m, \u001b[38;5;241m2\u001b[39m, \u001b[38;5;241m3\u001b[39m, \u001b[38;5;241m4\u001b[39m\n\u001b[1;32m     15\u001b[0m \u001b[38;5;66;03m#states[0, 0:3] = input[0:3]\u001b[39;00m\n\u001b[1;32m     16\u001b[0m \u001b[38;5;66;03m#states[0, V] = input[3]\u001b[39;00m\n\u001b[0;32m---> 17\u001b[0m states\u001b[38;5;241m.\u001b[39mappend(\u001b[43mtorch\u001b[49m\u001b[38;5;241;43m.\u001b[39;49m\u001b[43mtensor\u001b[49m\u001b[43m(\u001b[49m\u001b[43m[\u001b[49m\u001b[38;5;241;43m0\u001b[39;49m\u001b[43m,\u001b[49m\u001b[38;5;241;43m0\u001b[39;49m\u001b[43m,\u001b[49m\u001b[38;5;241;43m0\u001b[39;49m\u001b[43m,\u001b[49m\u001b[38;5;28;43minput\u001b[39;49m\u001b[43m[\u001b[49m\u001b[38;5;241;43m2\u001b[39;49m\u001b[43m]\u001b[49m\u001b[43m,\u001b[49m\u001b[38;5;28;43minput\u001b[39;49m\u001b[43m[\u001b[49m\u001b[38;5;241;43m0\u001b[39;49m\u001b[43m]\u001b[49m\u001b[43m]\u001b[49m\u001b[43m)\u001b[49m)\n\u001b[1;32m     18\u001b[0m \u001b[38;5;28;01mfor\u001b[39;00m i \u001b[38;5;129;01min\u001b[39;00m \u001b[38;5;28mrange\u001b[39m(\u001b[38;5;241m1\u001b[39m,\u001b[38;5;241m81\u001b[39m):\n\u001b[1;32m     19\u001b[0m     \u001b[38;5;66;03m# Advance bicycle model\u001b[39;00m\n\u001b[1;32m     20\u001b[0m     states\u001b[38;5;241m.\u001b[39mappend([states[\u001b[38;5;241m-\u001b[39m\u001b[38;5;241m1\u001b[39m][V] \u001b[38;5;241m*\u001b[39m torch\u001b[38;5;241m.\u001b[39mcos(trace[\u001b[38;5;241m-\u001b[39m\u001b[38;5;241m1\u001b[39m][THETA]),\n\u001b[1;32m     21\u001b[0m                    states[\u001b[38;5;241m-\u001b[39m\u001b[38;5;241m1\u001b[39m][V] \u001b[38;5;241m*\u001b[39m torch\u001b[38;5;241m.\u001b[39msin(trace[\u001b[38;5;241m-\u001b[39m\u001b[38;5;241m1\u001b[39m][THETA]),\n\u001b[1;32m     22\u001b[0m                    (states[\u001b[38;5;241m-\u001b[39m\u001b[38;5;241m1\u001b[39m][V] \u001b[38;5;241m*\u001b[39m torch\u001b[38;5;241m.\u001b[39mtan(\u001b[38;5;28minput\u001b[39m[\u001b[38;5;241m1\u001b[39m])) \u001b[38;5;241m/\u001b[39m L,\n\u001b[1;32m     23\u001b[0m                    \u001b[38;5;28minput\u001b[39m[\u001b[38;5;241m2\u001b[39m],\n\u001b[1;32m     24\u001b[0m                    states[i\u001b[38;5;241m-\u001b[39m\u001b[38;5;241m1\u001b[39m][V] \u001b[38;5;241m+\u001b[39m TS\u001b[38;5;241m*\u001b[39m\u001b[38;5;28minput\u001b[39m[\u001b[38;5;241m2\u001b[39m]])\n",
      "\u001b[0;31mValueError\u001b[0m: only one element tensors can be converted to Python scalars"
     ]
    }
   ],
   "source": [
    "# Training Loop\n",
    "torch.autograd.set_detect_anomaly(True)\n",
    "net = LSTMPredictor()\n",
    "net.to(DEVICE)\n",
    "loss_func = nn.MSELoss()\n",
    "optimizer = torch.optim.Adam(net.parameters(), lr=1e-3)\n",
    "\n",
    "for epoch in range(100):\n",
    "    cum_train_loss = 0.0\n",
    "    for input_data, target_data in tqdm(train_dataloader):\n",
    "        net.zero_grad()\n",
    "        input_data = input_data.to(DEVICE)\n",
    "        outp = net(input_data)\n",
    "        outp = outp.squeeze()\n",
    "        outp = outp.to(\"cpu\")\n",
    "        target_data = target_data.squeeze()\n",
    "        #print(outp.shape)\n",
    "        outp_trace = bicycle_model_eval(outp[-1]).to(DEVICE)\n",
    "        loss = loss_func(outp_trace, target_data.squeeze().to(DEVICE))\n",
    "        loss.backward()\n",
    "        optimizer.step()\n",
    "        cum_train_loss += loss.item()\n",
    "    plt.title(f\"Epoch {epoch} training plot\")\n",
    "    plt.plot(outp_trace[:,0].detach().cpu().numpy(), outp_trace[:,1].detach().cpu().numpy(), marker='o', label=\"Predicted\")\n",
    "    plt.plot(target_data[:,0].detach().cpu().numpy(), target_data[:,1].detach().cpu().numpy(), marker='o', label=\"Truth\")\n",
    "    plt.legend()\n",
    "    plt.show()\n",
    "    cum_train_loss /= len(train_dataset)\n",
    "    print(cum_train_loss)\n",
    "    cum_test_loss = 0.0\n",
    "    with torch.no_grad():\n",
    "        for input_data, target_data in tqdm(test_dataloader):\n",
    "            input_data = input_data.to(DEVICE)\n",
    "            outp = net(input_data)\n",
    "            outp = outp.squeeze()\n",
    "            outp = outp.to(\"cpu\")\n",
    "            target_data = target_data.squeeze()\n",
    "            outp_trace = bicycle_model_eval(outp[-1]).to(DEVICE)\n",
    "            loss = loss_func(outp_trace, target_data.squeeze().to(DEVICE))\n",
    "            cum_test_loss += loss.item()\n",
    "        plt.title(f\"Epoch {epoch} testing plot\")\n",
    "        plt.plot(outp_trace[:,0].detach().cpu().numpy(), outp_trace[:,1].detach().cpu().numpy(), marker='o', label=\"Predicted\")\n",
    "        plt.plot(target_data[:,0].detach().cpu().numpy(), target_data[:,1].detach().cpu().numpy(), marker='o', label=\"Truth\")\n",
    "        plt.legend()\n",
    "        plt.show()\n",
    "    cum_test_loss /= len(test_dataset)\n",
    "    print(cum_test_loss)\n",
    "    print(f\"Epoch {epoch} | Train Loss: {cum_train_loss} | Test Loss: {cum_test_loss}\")"
   ]
  },
  {
   "cell_type": "code",
   "execution_count": null,
   "metadata": {
    "collapsed": false,
    "jupyter": {
     "outputs_hidden": false
    },
    "pycharm": {
     "name": "#%%\n"
    }
   },
   "outputs": [],
   "source": []
  }
 ],
 "metadata": {
  "kernelspec": {
   "display_name": "Python 3 (ipykernel)",
   "language": "python",
   "name": "python3"
  },
  "language_info": {
   "codemirror_mode": {
    "name": "ipython",
    "version": 3
   },
   "file_extension": ".py",
   "mimetype": "text/x-python",
   "name": "python",
   "nbconvert_exporter": "python",
   "pygments_lexer": "ipython3",
   "version": "3.9.5"
  }
 },
 "nbformat": 4,
 "nbformat_minor": 4
}
