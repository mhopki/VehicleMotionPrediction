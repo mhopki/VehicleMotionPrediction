{
 "cells": [
  {
   "cell_type": "code",
   "execution_count": 39,
   "metadata": {
    "collapsed": true
   },
   "outputs": [
    {
     "name": "stderr",
     "output_type": "stream",
     "text": [
      "/var/folders/p0/kgfq_z9j4d59b68jgyqqwv180000gn/T/ipykernel_32634/2985703969.py:8: TqdmExperimentalWarning: Using `tqdm.autonotebook.tqdm` in notebook mode. Use `tqdm.tqdm` instead to force console mode (e.g. in jupyter console)\n",
      "  from tqdm.autonotebook import tqdm\n"
     ]
    }
   ],
   "source": [
    "import torch\n",
    "import pandas as pd\n",
    "import numpy as np\n",
    "import torch.nn as nn\n",
    "import torch.nn.functional as F\n",
    "from torch.utils.data import Dataset, DataLoader\n",
    "import matplotlib.pylab as plt\n",
    "from tqdm.autonotebook import tqdm"
   ]
  },
  {
   "cell_type": "code",
   "execution_count": 11,
   "outputs": [],
   "source": [
    "train_frame = pd.read_pickle(\"../../data/train_data.pkl\")\n",
    "test_frame = pd.read_pickle(\"../../data/test_data.pkl\")"
   ],
   "metadata": {
    "collapsed": false,
    "pycharm": {
     "name": "#%%\n"
    }
   }
  },
  {
   "cell_type": "code",
   "execution_count": 42,
   "outputs": [],
   "source": [
    "class TraceDataset(Dataset):\n",
    "    def __init__(self, dataframe):\n",
    "        self.dataframe = dataframe\n",
    "\n",
    "    def __len__(self):\n",
    "        return len(self.dataframe)\n",
    "\n",
    "    def __getitem__(self, idx):\n",
    "        input = torch.tensor(train_frame.iloc[idx]['input'], dtype=torch.float32)\n",
    "        target = torch.tensor(train_frame.iloc[idx]['target'], dtype=torch.float32)\n",
    "        return input, target\n",
    "\n",
    "train_dataset = TraceDataset(train_frame)\n",
    "test_dataset = TraceDataset(test_frame)\n",
    "train_dataloader = DataLoader(train_dataset, batch_size=1, shuffle=True)\n",
    "test_dataloader = DataLoader(test_dataset, batch_size=1, shuffle=True)"
   ],
   "metadata": {
    "collapsed": false,
    "pycharm": {
     "name": "#%%\n"
    }
   }
  },
  {
   "cell_type": "code",
   "execution_count": 43,
   "outputs": [],
   "source": [
    "def bicycle_model_eval(input):\n",
    "    # This version takes in an input of dim 5\n",
    "    trace = []#torch.zeros((80, 3))\n",
    "    states = []#torch.zeros((80, 5))\n",
    "    start_x = input[0]\n",
    "    start_y = input[1]\n",
    "    start_theta = input[2]\n",
    "    start_v = input[3]\n",
    "    #trace[0,0:3] = input[0:3]\n",
    "    trace.append(input[0:3])\n",
    "    L = 0.3302\n",
    "    TS = 0.1\n",
    "    X, Y, THETA = 0, 1, 2\n",
    "    dX, dY, dTHETA, dV, V = 0, 1, 2, 3, 4\n",
    "    #states[0, 0:3] = input[0:3]\n",
    "    #states[0, V] = input[3]\n",
    "    states.append(torch.tensor([input[0],input[1],input[2],input[5],input[3]]))\n",
    "    for i in range(1,80):\n",
    "        # Advance bicycle model\n",
    "        states.append([states[-1][V] * torch.cos(trace[-1][THETA]),\n",
    "                       states[-1][V] * torch.sin(trace[-1][THETA]),\n",
    "                       (states[-1][V] * torch.tan(input[4])) / L,\n",
    "                       input[5],\n",
    "                       states[i-1][V] + TS*input[5]])\n",
    "        #states[i, dX] = states[i-1,V] * torch.cos(trace[i-1,THETA])\n",
    "        #states[i, dY] = states[i-1,V] * torch.sin(trace[i-1,THETA])\n",
    "        #states[i, dTHETA] = (states[i-1,V] * torch.tan(input[4])) / L\n",
    "        #states[i, dV] = input[5]\n",
    "        #states[i, V] = states[i-1, V] + TS*states[i, dV]\n",
    "        trace.append(trace[-1] + TS*torch.tensor(states[-1][0:3], dtype=torch.float32))\n",
    "    return torch.vstack(trace)\n",
    "\n",
    "class LSTMPredictor(nn.Module):\n",
    "    def __init__(self, input_dim=3, hidden_dim=10, target_size=6):\n",
    "        super(LSTMPredictor, self).__init__()\n",
    "        self.hidden_dim = hidden_dim\n",
    "\n",
    "        # The LSTM takes word embeddings as inputs, and outputs hidden states\n",
    "        # with dimensionality hidden_dim.\n",
    "        self.lstm = nn.LSTM(input_dim, hidden_dim, batch_first=True)\n",
    "\n",
    "        # The linear layer that maps from hidden state space to tag space\n",
    "        self.hidden2output = nn.Sequential(\n",
    "            nn.Linear(hidden_dim, hidden_dim),\n",
    "            nn.ReLU(),\n",
    "            nn.Linear(hidden_dim, target_size)\n",
    "        )\n",
    "\n",
    "    def forward(self, inputs):\n",
    "        lstm_out, _ = self.lstm(inputs)\n",
    "        output = self.hidden2output(lstm_out)\n",
    "        return output"
   ],
   "metadata": {
    "collapsed": false,
    "pycharm": {
     "name": "#%%\n"
    }
   }
  },
  {
   "cell_type": "code",
   "execution_count": 44,
   "outputs": [],
   "source": [
    "net = LSTMPredictor()"
   ],
   "metadata": {
    "collapsed": false,
    "pycharm": {
     "name": "#%%\n"
    }
   }
  },
  {
   "cell_type": "code",
   "execution_count": 45,
   "outputs": [
    {
     "data": {
      "text/plain": "tensor([[-58.9267,  31.1195,   2.0114],\n        [-59.0875,  31.4569,   2.0265],\n        [-59.2471,  31.7847,   2.0320],\n        [-59.4060,  32.1001,   2.0484],\n        [-59.5651,  32.4038,   2.0645],\n        [-59.7262,  32.6999,   2.0798],\n        [-59.8943,  32.9917,   2.1144],\n        [-60.0724,  33.2777,   2.1533],\n        [-60.2605,  33.5560,   2.1888],\n        [-60.4569,  33.8287,   2.2108]], dtype=torch.float64)"
     },
     "execution_count": 45,
     "metadata": {},
     "output_type": "execute_result"
    }
   ],
   "source": [
    "torch.tensor(train_frame.iloc[0]['input'])"
   ],
   "metadata": {
    "collapsed": false,
    "pycharm": {
     "name": "#%%\n"
    }
   }
  },
  {
   "cell_type": "code",
   "execution_count": 46,
   "outputs": [
    {
     "data": {
      "text/plain": "torch.Size([10, 6])"
     },
     "execution_count": 46,
     "metadata": {},
     "output_type": "execute_result"
    }
   ],
   "source": [
    "outp = net(torch.tensor(train_frame.iloc[0]['input'], dtype=torch.float32))\n",
    "outp.shape"
   ],
   "metadata": {
    "collapsed": false,
    "pycharm": {
     "name": "#%%\n"
    }
   }
  },
  {
   "cell_type": "code",
   "execution_count": 47,
   "outputs": [
    {
     "data": {
      "text/plain": "tensor([ 0.1566,  0.1562, -0.0921, -0.1798, -0.2540, -0.2208],\n       grad_fn=<SelectBackward0>)"
     },
     "execution_count": 47,
     "metadata": {},
     "output_type": "execute_result"
    }
   ],
   "source": [
    "outp[-1]"
   ],
   "metadata": {
    "collapsed": false,
    "pycharm": {
     "name": "#%%\n"
    }
   }
  },
  {
   "cell_type": "code",
   "execution_count": 48,
   "outputs": [
    {
     "data": {
      "text/plain": "tensor([[ 1.5665e-01,  1.5621e-01, -9.2099e-02],\n        [ 1.3875e-01,  1.5786e-01, -7.7969e-02],\n        [ 1.1862e-01,  1.5943e-01, -6.2103e-02],\n        [ 9.6273e-02,  1.6082e-01, -4.4502e-02],\n        [ 7.1697e-02,  1.6192e-01, -2.5164e-02],\n        [ 4.4896e-02,  1.6259e-01, -4.0905e-03],\n        [ 1.5878e-02,  1.6271e-01,  1.8719e-02],\n        [-1.5342e-02,  1.6212e-01,  4.3264e-02],\n        [-4.8745e-02,  1.6068e-01,  6.9545e-02],\n        [-8.4301e-02,  1.5820e-01,  9.7562e-02],\n        [-1.2197e-01,  1.5452e-01,  1.2731e-01],\n        [-1.6171e-01,  1.4943e-01,  1.5880e-01],\n        [-2.0344e-01,  1.4274e-01,  1.9203e-01],\n        [-2.4710e-01,  1.3426e-01,  2.2699e-01],\n        [-2.9259e-01,  1.2375e-01,  2.6368e-01],\n        [-3.3979e-01,  1.1101e-01,  3.0212e-01],\n        [-3.8858e-01,  9.5802e-02,  3.4228e-01],\n        [-4.3879e-01,  7.7910e-02,  3.8419e-01],\n        [-4.9027e-01,  5.7101e-02,  4.2783e-01],\n        [-5.4279e-01,  3.3151e-02,  4.7320e-01],\n        [-5.9614e-01,  5.8363e-03,  5.2032e-01],\n        [-6.5006e-01, -2.5058e-02,  5.6916e-01],\n        [-7.0426e-01, -5.9739e-02,  6.1975e-01],\n        [-7.5844e-01, -9.8398e-02,  6.7207e-01],\n        [-8.1226e-01, -1.4121e-01,  7.2612e-01],\n        [-8.6533e-01, -1.8834e-01,  7.8191e-01],\n        [-9.1726e-01, -2.3991e-01,  8.3944e-01],\n        [-9.6761e-01, -2.9602e-01,  8.9870e-01],\n        [-1.0159e+00, -3.5674e-01,  9.5970e-01],\n        [-1.0617e+00, -4.2211e-01,  1.0224e+00],\n        [-1.1045e+00, -4.9210e-01,  1.0869e+00],\n        [-1.1437e+00, -5.6666e-01,  1.1531e+00],\n        [-1.1787e+00, -6.4566e-01,  1.2211e+00],\n        [-1.2091e+00, -7.2894e-01,  1.2907e+00],\n        [-1.2342e+00, -8.1625e-01,  1.3621e+00],\n        [-1.2535e+00, -9.0729e-01,  1.4353e+00],\n        [-1.2664e+00, -1.0017e+00,  1.5102e+00],\n        [-1.2723e+00, -1.0990e+00,  1.5868e+00],\n        [-1.2707e+00, -1.1987e+00,  1.6652e+00],\n        [-1.2611e+00, -1.3001e+00,  1.7452e+00],\n        [-1.2430e+00, -1.4026e+00,  1.8271e+00],\n        [-1.2160e+00, -1.5055e+00,  1.9106e+00],\n        [-1.1799e+00, -1.6078e+00,  1.9959e+00],\n        [-1.1342e+00, -1.7086e+00,  2.0830e+00],\n        [-1.0789e+00, -1.8071e+00,  2.1718e+00],\n        [-1.0138e+00, -1.9020e+00,  2.2623e+00],\n        [-9.3892e-01, -1.9924e+00,  2.3545e+00],\n        [-8.5452e-01, -2.0771e+00,  2.4485e+00],\n        [-7.6085e-01, -2.1549e+00,  2.5442e+00],\n        [-6.5835e-01, -2.2247e+00,  2.6417e+00],\n        [-5.4761e-01, -2.2852e+00,  2.7408e+00],\n        [-4.2939e-01, -2.3352e+00,  2.8418e+00],\n        [-3.0461e-01, -2.3738e+00,  2.9444e+00],\n        [-1.7437e-01, -2.3998e+00,  3.0488e+00],\n        [-3.9936e-02, -2.4123e+00,  3.1550e+00],\n        [ 9.7278e-02, -2.4105e+00,  3.2628e+00],\n        [ 2.3569e-01, -2.3936e+00,  3.3724e+00],\n        [ 3.7358e-01, -2.3612e+00,  3.4838e+00],\n        [ 5.0909e-01, -2.3130e+00,  3.5968e+00],\n        [ 6.4027e-01, -2.2488e+00,  3.7116e+00],\n        [ 7.6510e-01, -2.1687e+00,  3.8282e+00],\n        [ 8.8147e-01, -2.0733e+00,  3.9465e+00],\n        [ 9.8732e-01, -1.9633e+00,  4.0665e+00],\n        [ 1.0805e+00, -1.8396e+00,  4.1882e+00],\n        [ 1.1592e+00, -1.7036e+00,  4.3117e+00],\n        [ 1.2213e+00, -1.5569e+00,  4.4370e+00],\n        [ 1.2652e+00, -1.4015e+00,  4.5639e+00],\n        [ 1.2895e+00, -1.2396e+00,  4.6926e+00],\n        [ 1.2927e+00, -1.0736e+00,  4.8231e+00],\n        [ 1.2742e+00, -9.0653e-01,  4.9552e+00],\n        [ 1.2332e+00, -7.4118e-01,  5.0891e+00],\n        [ 1.1697e+00, -5.8072e-01,  5.2248e+00],\n        [ 1.0840e+00, -4.2840e-01,  5.3621e+00],\n        [ 9.7697e-01, -2.8748e-01,  5.5013e+00],\n        [ 8.4983e-01, -1.6122e-01,  5.6421e+00],\n        [ 7.0445e-01, -5.2735e-02,  5.7847e+00],\n        [ 5.4319e-01,  3.5046e-02,  5.9290e+00],\n        [ 3.6892e-01,  9.9488e-02,  6.0751e+00],\n        [ 1.8496e-01,  1.3834e-01,  6.2229e+00],\n        [-4.9253e-03,  1.4981e-01,  6.3724e+00]], grad_fn=<CatBackward0>)"
     },
     "execution_count": 48,
     "metadata": {},
     "output_type": "execute_result"
    }
   ],
   "source": [
    "outp_trace = bicycle_model_eval(outp[-1])\n",
    "outp_trace"
   ],
   "metadata": {
    "collapsed": false,
    "pycharm": {
     "name": "#%%\n"
    }
   }
  },
  {
   "cell_type": "code",
   "execution_count": 49,
   "outputs": [
    {
     "data": {
      "text/plain": "[<matplotlib.lines.Line2D at 0x11ecf8fa0>]"
     },
     "execution_count": 49,
     "metadata": {},
     "output_type": "execute_result"
    },
    {
     "data": {
      "text/plain": "<Figure size 432x288 with 1 Axes>",
      "image/png": "[encoded data removed]"
     },
     "metadata": {
      "needs_background": "light"
     },
     "output_type": "display_data"
    }
   ],
   "source": [
    "plt.plot(outp_trace[:,0].detach().numpy(), outp_trace[:,1].detach().numpy(), marker='o')\n",
    "plt.plot(outp_trace[:,0].detach().numpy(), outp_trace[:,1].detach().numpy(), marker='o')"
   ],
   "metadata": {
    "collapsed": false,
    "pycharm": {
     "name": "#%%\n"
    }
   }
  },
  {
   "cell_type": "code",
   "execution_count": 50,
   "outputs": [
    {
     "data": {
      "text/plain": "tensor([[0.0237, 0.2363, 0.6993],\n        [0.1403, 0.7152, 0.9534],\n        [0.6646, 0.1769, 0.5213],\n        [0.6292, 0.8642, 0.6178],\n        [0.4133, 0.0582, 0.9849],\n        [0.5114, 0.4496, 0.9888],\n        [0.3597, 0.7794, 0.3055],\n        [0.6900, 0.4302, 0.3716],\n        [0.2551, 0.4389, 0.6044],\n        [0.3002, 0.7575, 0.6179]])"
     },
     "execution_count": 50,
     "metadata": {},
     "output_type": "execute_result"
    }
   ],
   "source": [
    "torch.vstack([torch.rand((3,)) for _ in range(10)])"
   ],
   "metadata": {
    "collapsed": false,
    "pycharm": {
     "name": "#%%\n"
    }
   }
  },
  {
   "cell_type": "code",
   "execution_count": 51,
   "outputs": [
    {
     "data": {
      "text/plain": "tensor(2352.4453, grad_fn=<MseLossBackward0>)"
     },
     "execution_count": 51,
     "metadata": {},
     "output_type": "execute_result"
    }
   ],
   "source": [
    "loss = nn.MSELoss()\n",
    "loss(outp_trace,torch.tensor(train_frame.iloc[0]['target'], dtype=torch.float32))"
   ],
   "metadata": {
    "collapsed": false,
    "pycharm": {
     "name": "#%%\n"
    }
   }
  },
  {
   "cell_type": "code",
   "execution_count": 53,
   "outputs": [
    {
     "data": {
      "text/plain": "  0%|          | 0/470 [00:00<?, ?it/s]",
      "application/vnd.jupyter.widget-view+json": {
       "version_major": 2,
       "version_minor": 0,
       "model_id": "c198a01c879b4390939cab118700ff69"
      }
     },
     "metadata": {},
     "output_type": "display_data"
    },
    {
     "name": "stdout",
     "output_type": "stream",
     "text": [
      "torch.Size([1, 10, 6])\n"
     ]
    },
    {
     "ename": "ValueError",
     "evalue": "only one element tensors can be converted to Python scalars",
     "output_type": "error",
     "traceback": [
      "\u001B[0;31m---------------------------------------------------------------------------\u001B[0m",
      "\u001B[0;31mValueError\u001B[0m                                Traceback (most recent call last)",
      "Input \u001B[0;32mIn [53]\u001B[0m, in \u001B[0;36m<cell line: 7>\u001B[0;34m()\u001B[0m\n\u001B[1;32m     11\u001B[0m outp \u001B[38;5;241m=\u001B[39m net(input_data)\n\u001B[1;32m     12\u001B[0m \u001B[38;5;28mprint\u001B[39m(outp\u001B[38;5;241m.\u001B[39mshape)\n\u001B[0;32m---> 13\u001B[0m outp_trace \u001B[38;5;241m=\u001B[39m \u001B[43mbicycle_model_eval\u001B[49m\u001B[43m(\u001B[49m\u001B[43moutp\u001B[49m\u001B[43m[\u001B[49m\u001B[38;5;241;43m-\u001B[39;49m\u001B[38;5;241;43m1\u001B[39;49m\u001B[43m]\u001B[49m\u001B[43m)\u001B[49m\n\u001B[1;32m     14\u001B[0m loss \u001B[38;5;241m=\u001B[39m loss_func(outp_trace, target_data)\n\u001B[1;32m     15\u001B[0m loss\u001B[38;5;241m.\u001B[39mbackward()\n",
      "Input \u001B[0;32mIn [43]\u001B[0m, in \u001B[0;36mbicycle_model_eval\u001B[0;34m(input)\u001B[0m\n\u001B[1;32m     14\u001B[0m dX, dY, dTHETA, dV, V \u001B[38;5;241m=\u001B[39m \u001B[38;5;241m0\u001B[39m, \u001B[38;5;241m1\u001B[39m, \u001B[38;5;241m2\u001B[39m, \u001B[38;5;241m3\u001B[39m, \u001B[38;5;241m4\u001B[39m\n\u001B[1;32m     15\u001B[0m \u001B[38;5;66;03m#states[0, 0:3] = input[0:3]\u001B[39;00m\n\u001B[1;32m     16\u001B[0m \u001B[38;5;66;03m#states[0, V] = input[3]\u001B[39;00m\n\u001B[0;32m---> 17\u001B[0m states\u001B[38;5;241m.\u001B[39mappend(\u001B[43mtorch\u001B[49m\u001B[38;5;241;43m.\u001B[39;49m\u001B[43mtensor\u001B[49m\u001B[43m(\u001B[49m\u001B[43m[\u001B[49m\u001B[38;5;28;43minput\u001B[39;49m\u001B[43m[\u001B[49m\u001B[38;5;241;43m0\u001B[39;49m\u001B[43m]\u001B[49m\u001B[43m,\u001B[49m\u001B[38;5;28;43minput\u001B[39;49m\u001B[43m[\u001B[49m\u001B[38;5;241;43m1\u001B[39;49m\u001B[43m]\u001B[49m\u001B[43m,\u001B[49m\u001B[38;5;28;43minput\u001B[39;49m\u001B[43m[\u001B[49m\u001B[38;5;241;43m2\u001B[39;49m\u001B[43m]\u001B[49m\u001B[43m,\u001B[49m\u001B[38;5;28;43minput\u001B[39;49m\u001B[43m[\u001B[49m\u001B[38;5;241;43m5\u001B[39;49m\u001B[43m]\u001B[49m\u001B[43m,\u001B[49m\u001B[38;5;28;43minput\u001B[39;49m\u001B[43m[\u001B[49m\u001B[38;5;241;43m3\u001B[39;49m\u001B[43m]\u001B[49m\u001B[43m]\u001B[49m\u001B[43m)\u001B[49m)\n\u001B[1;32m     18\u001B[0m \u001B[38;5;28;01mfor\u001B[39;00m i \u001B[38;5;129;01min\u001B[39;00m \u001B[38;5;28mrange\u001B[39m(\u001B[38;5;241m1\u001B[39m,\u001B[38;5;241m80\u001B[39m):\n\u001B[1;32m     19\u001B[0m     \u001B[38;5;66;03m# Advance bicycle model\u001B[39;00m\n\u001B[1;32m     20\u001B[0m     states\u001B[38;5;241m.\u001B[39mappend([states[\u001B[38;5;241m-\u001B[39m\u001B[38;5;241m1\u001B[39m][V] \u001B[38;5;241m*\u001B[39m torch\u001B[38;5;241m.\u001B[39mcos(trace[\u001B[38;5;241m-\u001B[39m\u001B[38;5;241m1\u001B[39m][THETA]),\n\u001B[1;32m     21\u001B[0m                    states[\u001B[38;5;241m-\u001B[39m\u001B[38;5;241m1\u001B[39m][V] \u001B[38;5;241m*\u001B[39m torch\u001B[38;5;241m.\u001B[39msin(trace[\u001B[38;5;241m-\u001B[39m\u001B[38;5;241m1\u001B[39m][THETA]),\n\u001B[1;32m     22\u001B[0m                    (states[\u001B[38;5;241m-\u001B[39m\u001B[38;5;241m1\u001B[39m][V] \u001B[38;5;241m*\u001B[39m torch\u001B[38;5;241m.\u001B[39mtan(\u001B[38;5;28minput\u001B[39m[\u001B[38;5;241m4\u001B[39m])) \u001B[38;5;241m/\u001B[39m L,\n\u001B[1;32m     23\u001B[0m                    \u001B[38;5;28minput\u001B[39m[\u001B[38;5;241m5\u001B[39m],\n\u001B[1;32m     24\u001B[0m                    states[i\u001B[38;5;241m-\u001B[39m\u001B[38;5;241m1\u001B[39m][V] \u001B[38;5;241m+\u001B[39m TS\u001B[38;5;241m*\u001B[39m\u001B[38;5;28minput\u001B[39m[\u001B[38;5;241m5\u001B[39m]])\n",
      "\u001B[0;31mValueError\u001B[0m: only one element tensors can be converted to Python scalars"
     ]
    }
   ],
   "source": [
    "# Training Loop\n",
    "torch.autograd.set_detect_anomaly(True)\n",
    "net = LSTMPredictor()\n",
    "loss_func = nn.MSELoss()\n",
    "optimizer = torch.optim.Adam(net.parameters(), lr=1e-3)\n",
    "\n",
    "for epoch in range(100):\n",
    "    cum_train_loss = 0.0\n",
    "    for input_data, target_data in tqdm(train_dataloader):\n",
    "        net.zero_grad()\n",
    "        outp = net(input_data)\n",
    "        print(outp.shape)\n",
    "        outp_trace = bicycle_model_eval(outp[-1])\n",
    "        loss = loss_func(outp_trace, target_data)\n",
    "        loss.backward()\n",
    "        optimizer.step()\n",
    "        cum_train_loss += loss.item()\n",
    "    plt.title(f\"Epoch {epoch} training plot\")\n",
    "    plt.plot(outp_trace[:,0].detach().numpy(), outp_trace[:,1].detach().numpy(), marker='o', label=\"Predicted\")\n",
    "    plt.plot(target_data[:,0].detach().numpy(), target_data[:,1].detach().numpy(), marker='o', label=\"Truth\")\n",
    "    plt.legend()\n",
    "    plt.show()\n",
    "    cum_train_loss /= len(train_dataset)\n",
    "    print(cum_train_loss)\n",
    "    cum_test_loss = 0.0\n",
    "    with torch.no_grad():\n",
    "        for input_data, target_data in tqdm(test_dataloader):\n",
    "            outp = net(input_data)\n",
    "            outp_trace = bicycle_model_eval(outp[-1])\n",
    "            loss = loss_func(outp_trace, target_data)\n",
    "            cum_test_loss += loss.item()\n",
    "        plt.title(f\"Epoch {epoch} testing plot\")\n",
    "        plt.plot(outp_trace[:,0].detach().numpy(), outp_trace[:,1].detach().numpy(), marker='o', label=\"Predicted\")\n",
    "        plt.plot(target_data[:,0].detach().numpy(), target_data[:,1].detach().numpy(), marker='o', label=\"Truth\")\n",
    "        plt.legend()\n",
    "        plt.show()\n",
    "    cum_test_loss /= len(test_dataset)\n",
    "    print(cum_test_loss)\n",
    "    print(f\"Epoch {epoch} | Train Loss: {cum_train_loss} | Test Loss: {cum_test_loss}\")"
   ],
   "metadata": {
    "collapsed": false,
    "pycharm": {
     "name": "#%%\n"
    }
   }
  },
  {
   "cell_type": "code",
   "execution_count": null,
   "outputs": [],
   "source": [],
   "metadata": {
    "collapsed": false,
    "pycharm": {
     "name": "#%%\n"
    }
   }
  }
 ],
 "metadata": {
  "kernelspec": {
   "display_name": "Python 3",
   "language": "python",
   "name": "python3"
  },
  "language_info": {
   "codemirror_mode": {
    "name": "ipython",
    "version": 2
   },
   "file_extension": ".py",
   "mimetype": "text/x-python",
   "name": "python",
   "nbconvert_exporter": "python",
   "pygments_lexer": "ipython2",
   "version": "2.7.6"
  }
 },
 "nbformat": 4,
 "nbformat_minor": 0
}